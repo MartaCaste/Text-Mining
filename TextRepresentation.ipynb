{
  "nbformat": 4,
  "nbformat_minor": 0,
  "metadata": {
    "colab": {
      "name": "Copiar_antes_de_usar_TextRepresentation_copia_alumno.ipynb",
      "provenance": [],
      "collapsed_sections": [
        "fdk6YyUjvbHW"
      ],
      "include_colab_link": true
    },
    "kernelspec": {
      "name": "python3",
      "display_name": "Python 3"
    }
  },
  "cells": [
    {
      "cell_type": "markdown",
      "metadata": {
        "id": "view-in-github",
        "colab_type": "text"
      },
      "source": [
        "<a href=\"https://colab.research.google.com/github/MartaCaste/Text-Mining/blob/main/TextRepresentation.ipynb\" target=\"_parent\"><img src=\"https://colab.research.google.com/assets/colab-badge.svg\" alt=\"Open In Colab\"/></a>"
      ]
    },
    {
      "cell_type": "markdown",
      "metadata": {
        "id": "A48-kUHmOmQZ"
      },
      "source": [
        "\n",
        "# Representación numérica de textos\n",
        "En la mayoría de técnicas comúnmente utilizadas en Text Mining y NLP es necesario representar los textos en forma de vectores numéricos para que puedan ser procesados por modelos estadísticos o modelos de aprendizaje automático. Existen diferentes formas de representar el texto de esta manera, todas de ellas consisten en mapear la información a un espacio vectorial, numérico, aunque difieren en la manera de modelar los datos.\n",
        "\n",
        "Por una parte, nos encontramos estrategias para representar documentos completos en el espacio vectorial. Estas estrategias se basan en construir una matriz de términos y documentos, que representan el contenido del texto en vectores de manera que puedan ser utilizados como fuente de datos de entrada para tareas de clasificación, topic modelling o búsqueda de información. \n",
        "\n",
        "\n",
        "Por otra parte, existen estrategias para representar los documentos a nivel de palabra. Es decir, que cada token del vocabulario tenga asociada un vector específico. Estas estrategias, comúnmente denominadas como embeddings, permiten capturar la semántica de los términos y realizar de forma muy competente tareas más complejas como la extracción y linkeo de entidades, aunque también pueden ser utilizadas para otro tipo de tareas. \n",
        "\n",
        "\n",
        "\n"
      ]
    },
    {
      "cell_type": "markdown",
      "source": [
        "\n",
        "## 1. Representación numérica de documentos\n",
        "\n",
        "En este notebook vamos a aprender a representar numéricamente documentos a través de los métodos de representación Bag Of Words (BoW) y TF-IDF.\n",
        "\n",
        "\n",
        "Para este ejercicio trabajaremos con un corpus muy sencillo, para visualizar bien los resultados:"
      ],
      "metadata": {
        "id": "OW1pFXcKTOMB"
      }
    },
    {
      "cell_type": "code",
      "source": [
        "corpus = [\"yo quiero agua\",\n",
        "          \"yo quiero cocacola\",\n",
        "          \"yo quiero agua y un agua\",\n",
        "          \"yo no quiero vino\",\n",
        "          \"yo quiero un entrecot\"]"
      ],
      "metadata": {
        "id": "9EkfSTy3pxsb"
      },
      "execution_count": 1,
      "outputs": []
    },
    {
      "cell_type": "markdown",
      "source": [
        "Vamos a tokenizar cada una de las frases, para trabajar comodamente más adelante:"
      ],
      "metadata": {
        "id": "V7yGud8qqP8N"
      }
    },
    {
      "cell_type": "code",
      "source": [
        "corpus_tok = [i.split() for i in corpus]  #Corpus conocido y sencillo, podemos dividir palabras con split()\n",
        "corpus_tok"
      ],
      "metadata": {
        "id": "fp3fAT8ppwl6",
        "outputId": "70e79858-91cd-4aee-b97a-d8aee0c84354",
        "colab": {
          "base_uri": "https://localhost:8080/"
        }
      },
      "execution_count": 2,
      "outputs": [
        {
          "output_type": "execute_result",
          "data": {
            "text/plain": [
              "[['yo', 'quiero', 'agua'],\n",
              " ['yo', 'quiero', 'cocacola'],\n",
              " ['yo', 'quiero', 'agua', 'y', 'un', 'agua'],\n",
              " ['yo', 'no', 'quiero', 'vino'],\n",
              " ['yo', 'quiero', 'un', 'entrecot']]"
            ]
          },
          "metadata": {},
          "execution_count": 2
        }
      ]
    },
    {
      "cell_type": "markdown",
      "source": [
        "### Bag of Words\n",
        "Como hemos visto anterioremente, Bag Of Words es uno de los modelos de representación de texto más intuitivos. Para implementarlo, se construye un vocabulario de tamaño N con los tokens únicos del corpus de trabajo, para despues representar cada documento con un vector del mismo tamaño en el que cada elemento será el nº de veces que aparece el token en cuestión en el documento.\n",
        "\n"
      ],
      "metadata": {
        "id": "FhnCPAKiqFLH"
      }
    },
    {
      "cell_type": "markdown",
      "source": [
        "En primer lugar, construimos el vocabulario que se utilizará para representar nuestro corpus:"
      ],
      "metadata": {
        "id": "2eQnwDb5qjA9"
      }
    },
    {
      "cell_type": "code",
      "source": [
        "# El vocabulario de nuestro corpus son los tokens únicos utilizados en nuestro conjunto de documentos\n",
        "import itertools\n",
        "import numpy as np\n",
        "\n",
        "all_tokens = itertools.chain(*corpus_tok)\n",
        "vocab = sorted(set(all_tokens))\n",
        "\n",
        "print(\"Nuestro vocabulario contiene {} tokens. Que son: {}\".format(len(vocab),vocab))"
      ],
      "metadata": {
        "colab": {
          "base_uri": "https://localhost:8080/"
        },
        "id": "CAsGf7eOqI-C",
        "outputId": "0a92349f-c6d1-48d7-c8db-e07176f6f111"
      },
      "execution_count": 3,
      "outputs": [
        {
          "output_type": "stream",
          "name": "stdout",
          "text": [
            "Nuestro vocabulario contiene 9 tokens. Que son: ['agua', 'cocacola', 'entrecot', 'no', 'quiero', 'un', 'vino', 'y', 'yo']\n"
          ]
        }
      ]
    },
    {
      "cell_type": "markdown",
      "source": [
        "Cada uno de los documentos del corpus estará representado por un vector de 9 elementos. El elemento 0 representará la presencia del token agua en el documento, el elemento 1 representará la presencia de \"cocacola\" en el documento... etc\n",
        "\n",
        "A continuación, vamos a construir esos vectores:"
      ],
      "metadata": {
        "id": "ox-OKbnNraUS"
      }
    },
    {
      "cell_type": "code",
      "source": [
        "import collections\n",
        "# Creamos un vector de salida\n",
        "doc_vectors = list()\n",
        "# Iteramos en cada uno de los documentos del corpus\n",
        "for doc in corpus_tok:\n",
        "  # Contamos las ocurrencias de cada uno de los tokens. Counter devuelve un diccionario\n",
        "  counter_doc = collections.Counter(doc)\n",
        "  # Creamos el vector que representará al documento\n",
        "  doc_vec = list()\n",
        "  # Iteramos por los términos del voabulario\n",
        "  for word in vocab:\n",
        "    # Si el término está en el diccionario de conteo, introducimos el valor en\n",
        "    # esa posición del vector. Si no está, introducimos un 0\n",
        "    if word in counter_doc:\n",
        "      doc_vec.append(counter_doc[word]) #counter_doc[word]\n",
        "    else:\n",
        "      doc_vec.append(0)\n",
        "  # Añadimos al vector de salida el vector del documento\n",
        "  doc_vectors.append(doc_vec)"
      ],
      "metadata": {
        "id": "0J0ven0arZpl"
      },
      "execution_count": 4,
      "outputs": []
    },
    {
      "cell_type": "code",
      "source": [
        "for frase, vector in zip(corpus, doc_vectors):\n",
        "  print(\"La frase '{}' está representada por el vector {}\".format(frase, vector))"
      ],
      "metadata": {
        "id": "Lg7a8t2As-61",
        "outputId": "f38094cb-a96c-4175-b48a-a3ca12a635ff",
        "colab": {
          "base_uri": "https://localhost:8080/"
        }
      },
      "execution_count": 5,
      "outputs": [
        {
          "output_type": "stream",
          "name": "stdout",
          "text": [
            "La frase 'yo quiero agua' está representada por el vector [1, 0, 0, 0, 1, 0, 0, 0, 1]\n",
            "La frase 'yo quiero cocacola' está representada por el vector [0, 1, 0, 0, 1, 0, 0, 0, 1]\n",
            "La frase 'yo quiero agua y un agua' está representada por el vector [2, 0, 0, 0, 1, 1, 0, 1, 1]\n",
            "La frase 'yo no quiero vino' está representada por el vector [0, 0, 0, 1, 1, 0, 1, 0, 1]\n",
            "La frase 'yo quiero un entrecot' está representada por el vector [0, 0, 1, 0, 1, 1, 0, 0, 1]\n"
          ]
        }
      ]
    },
    {
      "cell_type": "markdown",
      "source": [
        "En Bag Of Words: \n",
        "\n",
        "- Los términos que aparecen varias veces en el documento tienen un número mayor, lo que se puede traducir en que esos términos (caracteristicas) tienen un mayor peso en el documento.\n",
        "- Si un término ocurre muchas veces en todos los documentos, tendrá gran importancia en cada uno de ellos, a pesar de que no será útil para clasificar o agrupar textos.\n",
        "\n",
        "\n",
        "El método de representación TF-IDF intenta precisamente  compensar este efecto mediante la aplicación de una penalización a palabras comunes en muchos documentos."
      ],
      "metadata": {
        "id": "Xi8aGcOouXTU"
      }
    },
    {
      "cell_type": "markdown",
      "source": [
        "### TF-IDF  (intuición)\n"
      ],
      "metadata": {
        "id": "fdk6YyUjvbHW"
      }
    },
    {
      "cell_type": "markdown",
      "source": [
        "Para realizar los cáculos de forma más eficiente generaremos un diccionario que asocie a cada una de las palabras de nuestro corpus un índice numérico.\n"
      ],
      "metadata": {
        "id": "ct4pM7F6RfZ-"
      }
    },
    {
      "cell_type": "markdown",
      "source": [
        "Para calcular TF-IDF realizaremos los siguientes pasos:\n",
        "\n",
        "1. Calcular el Term Frequency (TF). Que se calcula como:\n",
        "  $$TF(w) = n_{w-in-d} / N_d$$\n",
        "\n",
        "Anteriormente hemos calculado para cada documento el número de veces que aparecía cada token del vocabulario. Para calcular el TF bastaría con dividir cada uno de los elementos del vector con la suma total de tokens de cada documento.\n"
      ],
      "metadata": {
        "id": "PR2pB-QDzfzs"
      }
    },
    {
      "cell_type": "markdown",
      "source": [
        "2. Calcular el componente Inverse-Document Frequency (IDF). Que se calcula como:\n",
        "$$ IDF(w) = ln(N/n_w)$$\n",
        "\n",
        "donde n_w  es el número de documentos que contiene el token w y N es el número total de documentos. \n",
        "En el código incluimos una versión simplificada, para simplificar el código, en el que n_w es el número de veces que el token aparece \n"
      ],
      "metadata": {
        "id": "q832rwMH0klF"
      }
    },
    {
      "cell_type": "markdown",
      "source": [
        "En primer lugar generamos una función que permita calcular el número de vees que un token aparece en un documento d enuestro corpus."
      ],
      "metadata": {
        "id": "7xZDRIuTUZAu"
      }
    },
    {
      "cell_type": "markdown",
      "source": [
        "Depsues, unimos ambas expresiones para calcular el TF-IDF de una frase:"
      ],
      "metadata": {
        "id": "HVrOHtSZUtJt"
      }
    },
    {
      "cell_type": "code",
      "source": [
        "def tf_idf_calc(doc, N_corpus):\n",
        "  # Generamos vector salida\n",
        "  tf_idf_vec = np.zeros((len(vocab),))\n",
        "  for word in doc:\n",
        "    # Calculamoes el valor tf para el token en cuestion\n",
        "    tf = TF_calc(doc, word)\n",
        "    # Calculamos el valor idf para el token en cuestion\n",
        "    idf = idf_calc(doc, N_corpus)\n",
        "\n",
        "    tf_idf = tf * idf\n",
        "    tf_idf_vec[index_dict[word]] = tf_idf \n",
        "  return tf_idf_vec"
      ],
      "metadata": {
        "id": "FfKEr-y3TBv5"
      },
      "execution_count": null,
      "outputs": []
    },
    {
      "cell_type": "markdown",
      "source": [
        "Por ultimo lo calculamos para todo el corpus"
      ],
      "metadata": {
        "id": "PKV7tHzHU_5S"
      }
    },
    {
      "cell_type": "code",
      "source": [
        "#TF-IDF Encoded text corpus\n",
        "tf_idf_result = []\n",
        "for sent in corpus_tok:\n",
        "    vec = tf_idf_calc(sent,len(corpus_tok))\n",
        "    tf_idf_result.append(vec)"
      ],
      "metadata": {
        "id": "2rmTJUUmVEUq"
      },
      "execution_count": null,
      "outputs": []
    },
    {
      "cell_type": "markdown",
      "metadata": {
        "id": "IvFyVzubOmJM"
      },
      "source": [
        "### Cálculo con scikit-learn\n",
        "\n",
        "\n"
      ]
    },
    {
      "cell_type": "markdown",
      "source": [
        "Aunque hemos mostrado una manera de aplicar el BoW y Tf-IDF a un corpus de documentos. Existen varias modificaciones que pueden mejorar los resultados (modificaciones en el cálculo de la componente IDF, por ejemplo). Además, las librerías de ML están preapradas para transformar documentos de forma más inmedianta, eficiente e incorporando funciones que pueden ser de utilidad\n",
        "\n",
        "\n",
        "En scikit-learn podemos utilizar distintas funciones para obtener el vocabulario de un corpus de documentos. Ambas están presentes dentro del módulo feature_extraction.text y son [`CountVectorizer`](https://scikit-learn.org/stable/modules/generated/sklearn.feature_extraction.text.CountVectorizer.html) y  [`TfidfVectorizer`](https://scikit-learn.org/stable/modules/generated/sklearn.feature_extraction.text.TfidfVectorizer.html#sklearn.feature_extraction.text.TfidfVectorizer). \n",
        "Vamos a crear un objeto con cada una de esas clases para introducir nuestro corpus y extraer el vocabulario."
      ],
      "metadata": {
        "id": "Hfx5yjcoYOPA"
      }
    },
    {
      "cell_type": "markdown",
      "metadata": {
        "id": "TJl8IO50AKBp"
      },
      "source": [
        "\n",
        "**Tanto las funciones CountVectorizer como TfidfVectorizer cuentan con muchos parámetros personalizables. Algunos de los más relevantes son:**\n",
        "\n",
        "\n",
        "*   *strip_accents*: Elimina los acentos en codificación ascii o unicode. Por defecto es None. Es preferible hacer una gestión de acentos previas.\n",
        "*   *lowercase*: Transforma todos los caracteres a minúsculas antes de hacer la tokenización.\n",
        "*   *tokenizer*: Utiliza un tokenizador específico. Se puede utilizar una de NLTK o de Spacy(computacionalmente menos eficiente).\n",
        "*   *stop_words*: Si se pone el valor \"english\" eliminara la lista de stop_words definida en scikit-learn. Se puede utilizar la lista de stopwords de otras librerías o definir unas propias.\n",
        "*   *ngram_range*: Cálculo de n-gramas en el proceso. Mediante la tubla (min_n, max_n) se pueden incorporar n-gramas al cálculo de la matriz tfidf.\n",
        "*   *max_df*: Valor por defecto 1.  Ignora los tokens (o n-gramas) que aparecen en más del X % de documentos cuando es menor de 1. Si max_df es mayor que uno se ignorarán los términos que aparecen en más de X documentos.\n",
        "*   *min_df*: Valor por defecto 1. Ignora los tokens que aparecen  en menos del X % de los documentos. Siendo X el valor de X. (0.01 = 1%, por ejemplo)\n",
        "*   *max_features*: Máximas características que devuelve la función TfidfVectorizer. Valor mayor que 1. Representa las caracaterísticas más importantes (las más repetidas o comunes) Esto es muy interesante para no sobreentrenar el sistema.\n",
        "*   *norm*: Valores \"l1\" y \"l2\", por defecto \"l2\". Normaliza los valores entre 0 y 1.\n",
        "*   *use_idf*: Habilita el uso del inverse-document frequency en la función. Por defecto es True.\n",
        "*   *smooth_idf*: Suaviza los pesos de IDF sumando una unidad a cada frecuencia. Es muy importante para evitar divisiones por cero.\n",
        "\n"
      ]
    },
    {
      "cell_type": "code",
      "metadata": {
        "id": "PiDKf5zHT-Rm"
      },
      "source": [
        "from sklearn.feature_extraction.text import CountVectorizer,TfidfVectorizer\n",
        "from sklearn.feature_extraction import text\n",
        "\n",
        "# Creamos los objetos\n",
        "count_vectorizer = CountVectorizer()\n",
        "tfidf_vectorizer = TfidfVectorizer(norm=None, smooth_idf=False) # Re-escribimos los valores por defecto para tener el tf-idf básico\n",
        "\n",
        "# Hacemos Fit con nuestro corpus\n",
        "count_data = count_vectorizer.fit(corpus)\n",
        "tfidf_data = tfidf_vectorizer.fit(corpus)\n"
      ],
      "execution_count": 6,
      "outputs": []
    },
    {
      "cell_type": "markdown",
      "source": [
        "Ya tenemos nuestros objetos entrenados, de los cuales podemos obtener su vocabulario"
      ],
      "metadata": {
        "id": "vrJOm0jSi4Mz"
      }
    },
    {
      "cell_type": "code",
      "metadata": {
        "id": "4tUVaA_-UItk",
        "outputId": "cc2f1a6f-9ea1-4405-a83f-d6690437e6f3",
        "colab": {
          "base_uri": "https://localhost:8080/"
        }
      },
      "source": [
        "# Obtenemos los vocabularios de dos formas:\n",
        "print(\"COUNT VECTORIZER\")\n",
        "print(\"Obtenemos un dictionario que mapea las palabras con su posición en el vector del vocabulario\")\n",
        "print(count_data.vocabulary_)\n",
        "print(\"Obtenemos el vocabulario en si mismo como una lista\")\n",
        "print(count_data.get_feature_names())\n",
        "print(\"Numero de características:\")\n",
        "print(len(count_data.get_feature_names()))"
      ],
      "execution_count": 7,
      "outputs": [
        {
          "output_type": "stream",
          "name": "stdout",
          "text": [
            "COUNT VECTORIZER\n",
            "Obtenemos un dictionario que mapea las palabras con su posición en el vector del vocabulario\n",
            "{'yo': 7, 'quiero': 4, 'agua': 0, 'cocacola': 1, 'un': 5, 'no': 3, 'vino': 6, 'entrecot': 2}\n",
            "Obtenemos el vocabulario en si mismo como una lista\n",
            "['agua', 'cocacola', 'entrecot', 'no', 'quiero', 'un', 'vino', 'yo']\n",
            "Numero de características:\n",
            "8\n"
          ]
        },
        {
          "output_type": "stream",
          "name": "stderr",
          "text": [
            "/usr/local/lib/python3.7/dist-packages/sklearn/utils/deprecation.py:87: FutureWarning: Function get_feature_names is deprecated; get_feature_names is deprecated in 1.0 and will be removed in 1.2. Please use get_feature_names_out instead.\n",
            "  warnings.warn(msg, category=FutureWarning)\n"
          ]
        }
      ]
    },
    {
      "cell_type": "code",
      "metadata": {
        "id": "o1Xi6tt1DH-0",
        "outputId": "ea15ef35-2ff9-44dc-ae78-b6537ec5f60f",
        "colab": {
          "base_uri": "https://localhost:8080/"
        }
      },
      "source": [
        "# Obviamente, dado que hemos utilizado el mismo corpus, obtenemos el mismo resultado con el tfidf_vectorizer.\n",
        "print(\"\\n\\n TF-IDF VECTORIZER\")\n",
        "print(\"Obtenemos un dictionario que mapea las palabras con su posición en el vector del vocabulario\")\n",
        "print(tfidf_data.vocabulary_)\n",
        "print(\"Obtenemos el vocabulario en si mismo como una lista\")\n",
        "print(tfidf_data.get_feature_names())\n",
        "print(\"Numero de características:\")\n",
        "print(len(tfidf_data.get_feature_names()))"
      ],
      "execution_count": 8,
      "outputs": [
        {
          "output_type": "stream",
          "name": "stdout",
          "text": [
            "\n",
            "\n",
            " TF-IDF VECTORIZER\n",
            "Obtenemos un dictionario que mapea las palabras con su posición en el vector del vocabulario\n",
            "{'yo': 7, 'quiero': 4, 'agua': 0, 'cocacola': 1, 'un': 5, 'no': 3, 'vino': 6, 'entrecot': 2}\n",
            "Obtenemos el vocabulario en si mismo como una lista\n",
            "['agua', 'cocacola', 'entrecot', 'no', 'quiero', 'un', 'vino', 'yo']\n",
            "Numero de características:\n",
            "8\n"
          ]
        },
        {
          "output_type": "stream",
          "name": "stderr",
          "text": [
            "/usr/local/lib/python3.7/dist-packages/sklearn/utils/deprecation.py:87: FutureWarning: Function get_feature_names is deprecated; get_feature_names is deprecated in 1.0 and will be removed in 1.2. Please use get_feature_names_out instead.\n",
            "  warnings.warn(msg, category=FutureWarning)\n"
          ]
        }
      ]
    },
    {
      "cell_type": "markdown",
      "metadata": {
        "id": "bQabDt3aDJ4-"
      },
      "source": [
        "Si imprimimos el objeto tfidf_data podemos ver la configuración de los parámetros de TfidfVectorizer:"
      ]
    },
    {
      "cell_type": "code",
      "metadata": {
        "colab": {
          "base_uri": "https://localhost:8080/"
        },
        "id": "UhHyIi8JUiLn",
        "outputId": "ef8f7cfe-ec53-4f21-91eb-e2d491bd357f"
      },
      "source": [
        "tfidf_data"
      ],
      "execution_count": 9,
      "outputs": [
        {
          "output_type": "execute_result",
          "data": {
            "text/plain": [
              "TfidfVectorizer(norm=None, smooth_idf=False)"
            ]
          },
          "metadata": {},
          "execution_count": 9
        }
      ]
    },
    {
      "cell_type": "markdown",
      "metadata": {
        "id": "lBUeudl0Ol8L"
      },
      "source": [
        "A continuación se muestra el resultado de transformar nuestro corpus con lso métodos de scikit-learn. El `CountVectorizer` mostrará el conteo de veces que una palabra del vocabulario está presente dentro del documento, el `TfidfVectorizer` mostrará el resultado con la métrica TF-IDF mostrada en los apuntes."
      ]
    },
    {
      "cell_type": "code",
      "metadata": {
        "id": "y7BGfa8UAEvE",
        "colab": {
          "base_uri": "https://localhost:8080/"
        },
        "outputId": "d696f39b-e4a0-478b-e816-f63805b5473a"
      },
      "source": [
        "# Resultado del CountVectorizer\n",
        "count_data_result = count_data.transform(corpus).toarray()\n",
        "print(count_data_result)"
      ],
      "execution_count": 10,
      "outputs": [
        {
          "output_type": "stream",
          "name": "stdout",
          "text": [
            "[[1 0 0 0 1 0 0 1]\n",
            " [0 1 0 0 1 0 0 1]\n",
            " [2 0 0 0 1 1 0 1]\n",
            " [0 0 0 1 1 0 1 1]\n",
            " [0 0 1 0 1 1 0 1]]\n"
          ]
        }
      ]
    },
    {
      "cell_type": "code",
      "metadata": {
        "id": "fnvyxz32DdUG",
        "outputId": "c74fc862-09ba-410a-c8b1-79eaad7e2e89",
        "colab": {
          "base_uri": "https://localhost:8080/"
        }
      },
      "source": [
        "# Resultado del TfidfVectorizer\n",
        "tfidf_data_result = tfidf_data.transform(corpus).toarray()\n",
        "print(tfidf_data_result)"
      ],
      "execution_count": 11,
      "outputs": [
        {
          "output_type": "stream",
          "name": "stdout",
          "text": [
            "[[1.91629073 0.         0.         0.         1.         0.\n",
            "  0.         1.        ]\n",
            " [0.         2.60943791 0.         0.         1.         0.\n",
            "  0.         1.        ]\n",
            " [3.83258146 0.         0.         0.         1.         1.91629073\n",
            "  0.         1.        ]\n",
            " [0.         0.         0.         2.60943791 1.         0.\n",
            "  2.60943791 1.        ]\n",
            " [0.         0.         2.60943791 0.         1.         1.91629073\n",
            "  0.         1.        ]]\n"
          ]
        }
      ]
    },
    {
      "cell_type": "markdown",
      "metadata": {
        "id": "_xm5fMDoY-nR"
      },
      "source": [
        "Vamos a mostrar los resultados con seaborn para que se vean mejor. Importante mencionar que esto se puede hacer cuando el vocabulario es muy reducido, si no podría ocasionar problemas en la memoria."
      ]
    },
    {
      "cell_type": "code",
      "metadata": {
        "id": "Cck6bfUBZBrb",
        "outputId": "58daadbf-e6ca-4c9d-c25e-60ff43ce4da6",
        "colab": {
          "base_uri": "https://localhost:8080/",
          "height": 449
        }
      },
      "source": [
        "import matplotlib.pyplot as plt\n",
        "import seaborn as sns\n",
        "plt.figure(figsize=(16, 6))\n",
        "# Figura CountVectorizer\n",
        "sns.heatmap(count_data_result, annot=True,cbar=False,\n",
        "            xticklabels=count_data.get_feature_names(),\n",
        "            yticklabels = [\"Frase 1\", \"Frase 2\", \"Frase 3\",\"Frase 4\", \"Frase 5\"])\n",
        "\n"
      ],
      "execution_count": 12,
      "outputs": [
        {
          "output_type": "stream",
          "name": "stderr",
          "text": [
            "/usr/local/lib/python3.7/dist-packages/sklearn/utils/deprecation.py:87: FutureWarning: Function get_feature_names is deprecated; get_feature_names is deprecated in 1.0 and will be removed in 1.2. Please use get_feature_names_out instead.\n",
            "  warnings.warn(msg, category=FutureWarning)\n"
          ]
        },
        {
          "output_type": "execute_result",
          "data": {
            "text/plain": [
              "<matplotlib.axes._subplots.AxesSubplot at 0x7f4da3eb09d0>"
            ]
          },
          "metadata": {},
          "execution_count": 12
        },
        {
          "output_type": "display_data",
          "data": {
            "text/plain": [
              "<Figure size 1152x432 with 1 Axes>"
            ],
            "image/png": "[encoded data removed]"
          },
          "metadata": {
            "needs_background": "light"
          }
        }
      ]
    },
    {
      "cell_type": "code",
      "metadata": {
        "id": "X4viXEKmD1FT",
        "outputId": "ecc267c4-4f3b-42e6-d5fd-cc7d7ab09ef7",
        "colab": {
          "base_uri": "https://localhost:8080/",
          "height": 449
        }
      },
      "source": [
        "plt.figure(figsize=(16, 6))\n",
        "sns.heatmap(tfidf_data_result, annot=True,cbar=False,\n",
        "            xticklabels=tfidf_data.get_feature_names(),\n",
        "            yticklabels = [\"Frase 1\", \"Frase 2\", \"Frase 3\",\"Frase 4\", \"Frase 5\"])"
      ],
      "execution_count": 13,
      "outputs": [
        {
          "output_type": "stream",
          "name": "stderr",
          "text": [
            "/usr/local/lib/python3.7/dist-packages/sklearn/utils/deprecation.py:87: FutureWarning: Function get_feature_names is deprecated; get_feature_names is deprecated in 1.0 and will be removed in 1.2. Please use get_feature_names_out instead.\n",
            "  warnings.warn(msg, category=FutureWarning)\n"
          ]
        },
        {
          "output_type": "execute_result",
          "data": {
            "text/plain": [
              "<matplotlib.axes._subplots.AxesSubplot at 0x7f4da368c790>"
            ]
          },
          "metadata": {},
          "execution_count": 13
        },
        {
          "output_type": "display_data",
          "data": {
            "text/plain": [
              "<Figure size 1152x432 with 1 Axes>"
            ],
            "image/png": "[encoded data removed]"
          },
          "metadata": {
            "needs_background": "light"
          }
        }
      ]
    },
    {
      "cell_type": "markdown",
      "source": [
        "Resalta las palabras mas importantes de algunos documentos y palabras como quiero y yo las clasifica como menos importantes."
      ],
      "metadata": {
        "id": "HRMBSQDokNg0"
      }
    },
    {
      "cell_type": "markdown",
      "metadata": {
        "id": "JFJMRxoQNK4J"
      },
      "source": [
        "### Uso de preprocesadores externos a scikit-learn\n",
        "\n",
        "\n"
      ]
    },
    {
      "cell_type": "markdown",
      "metadata": {
        "id": "Vov1rGLIDjr9"
      },
      "source": [
        "En primer lugar, dado que vamos a utilizar spacy, instalaremos la librería y el modelo:"
      ]
    },
    {
      "cell_type": "code",
      "metadata": {
        "id": "ZshEoLThWJDt",
        "outputId": "76c306a8-f388-45fc-83a2-bb68f1c01647",
        "colab": {
          "base_uri": "https://localhost:8080/"
        }
      },
      "source": [
        "!pip install spacy\n",
        "!python -m spacy download es_core_news_sm"
      ],
      "execution_count": 14,
      "outputs": [
        {
          "output_type": "stream",
          "name": "stdout",
          "text": [
            "Looking in indexes: https://pypi.org/simple, https://us-python.pkg.dev/colab-wheels/public/simple/\n",
            "Requirement already satisfied: spacy in /usr/local/lib/python3.7/dist-packages (3.3.1)\n",
            "Requirement already satisfied: setuptools in /usr/local/lib/python3.7/dist-packages (from spacy) (57.4.0)\n",
            "Requirement already satisfied: thinc<8.1.0,>=8.0.14 in /usr/local/lib/python3.7/dist-packages (from spacy) (8.0.17)\n",
            "Requirement already satisfied: preshed<3.1.0,>=3.0.2 in /usr/local/lib/python3.7/dist-packages (from spacy) (3.0.6)\n",
            "Requirement already satisfied: numpy>=1.15.0 in /usr/local/lib/python3.7/dist-packages (from spacy) (1.21.6)\n",
            "Requirement already satisfied: pathy>=0.3.5 in /usr/local/lib/python3.7/dist-packages (from spacy) (0.6.2)\n",
            "Requirement already satisfied: jinja2 in /usr/local/lib/python3.7/dist-packages (from spacy) (2.11.3)\n",
            "Requirement already satisfied: langcodes<4.0.0,>=3.2.0 in /usr/local/lib/python3.7/dist-packages (from spacy) (3.3.0)\n",
            "Requirement already satisfied: tqdm<5.0.0,>=4.38.0 in /usr/local/lib/python3.7/dist-packages (from spacy) (4.64.0)\n",
            "Requirement already satisfied: spacy-legacy<3.1.0,>=3.0.9 in /usr/local/lib/python3.7/dist-packages (from spacy) (3.0.9)\n",
            "Requirement already satisfied: typing-extensions<4.2.0,>=3.7.4 in /usr/local/lib/python3.7/dist-packages (from spacy) (4.1.1)\n",
            "Requirement already satisfied: blis<0.8.0,>=0.4.0 in /usr/local/lib/python3.7/dist-packages (from spacy) (0.7.8)\n",
            "Requirement already satisfied: murmurhash<1.1.0,>=0.28.0 in /usr/local/lib/python3.7/dist-packages (from spacy) (1.0.7)\n",
            "Requirement already satisfied: wasabi<1.1.0,>=0.9.1 in /usr/local/lib/python3.7/dist-packages (from spacy) (0.9.1)\n",
            "Requirement already satisfied: spacy-loggers<2.0.0,>=1.0.0 in /usr/local/lib/python3.7/dist-packages (from spacy) (1.0.2)\n",
            "Requirement already satisfied: catalogue<2.1.0,>=2.0.6 in /usr/local/lib/python3.7/dist-packages (from spacy) (2.0.7)\n",
            "Requirement already satisfied: pydantic!=1.8,!=1.8.1,<1.9.0,>=1.7.4 in /usr/local/lib/python3.7/dist-packages (from spacy) (1.8.2)\n",
            "Requirement already satisfied: packaging>=20.0 in /usr/local/lib/python3.7/dist-packages (from spacy) (21.3)\n",
            "Requirement already satisfied: cymem<2.1.0,>=2.0.2 in /usr/local/lib/python3.7/dist-packages (from spacy) (2.0.6)\n",
            "Requirement already satisfied: srsly<3.0.0,>=2.4.3 in /usr/local/lib/python3.7/dist-packages (from spacy) (2.4.3)\n",
            "Requirement already satisfied: typer<0.5.0,>=0.3.0 in /usr/local/lib/python3.7/dist-packages (from spacy) (0.4.2)\n",
            "Requirement already satisfied: requests<3.0.0,>=2.13.0 in /usr/local/lib/python3.7/dist-packages (from spacy) (2.23.0)\n",
            "Requirement already satisfied: zipp>=0.5 in /usr/local/lib/python3.7/dist-packages (from catalogue<2.1.0,>=2.0.6->spacy) (3.8.0)\n",
            "Requirement already satisfied: pyparsing!=3.0.5,>=2.0.2 in /usr/local/lib/python3.7/dist-packages (from packaging>=20.0->spacy) (3.0.9)\n",
            "Requirement already satisfied: smart-open<6.0.0,>=5.2.1 in /usr/local/lib/python3.7/dist-packages (from pathy>=0.3.5->spacy) (5.2.1)\n",
            "Requirement already satisfied: certifi>=2017.4.17 in /usr/local/lib/python3.7/dist-packages (from requests<3.0.0,>=2.13.0->spacy) (2022.6.15)\n",
            "Requirement already satisfied: chardet<4,>=3.0.2 in /usr/local/lib/python3.7/dist-packages (from requests<3.0.0,>=2.13.0->spacy) (3.0.4)\n",
            "Requirement already satisfied: idna<3,>=2.5 in /usr/local/lib/python3.7/dist-packages (from requests<3.0.0,>=2.13.0->spacy) (2.10)\n",
            "Requirement already satisfied: urllib3!=1.25.0,!=1.25.1,<1.26,>=1.21.1 in /usr/local/lib/python3.7/dist-packages (from requests<3.0.0,>=2.13.0->spacy) (1.24.3)\n",
            "Requirement already satisfied: click<9.0.0,>=7.1.1 in /usr/local/lib/python3.7/dist-packages (from typer<0.5.0,>=0.3.0->spacy) (7.1.2)\n",
            "Requirement already satisfied: MarkupSafe>=0.23 in /usr/local/lib/python3.7/dist-packages (from jinja2->spacy) (2.0.1)\n",
            "Looking in indexes: https://pypi.org/simple, https://us-python.pkg.dev/colab-wheels/public/simple/\n",
            "Collecting es-core-news-sm==3.3.0\n",
            "  Downloading https://github.com/explosion/spacy-models/releases/download/es_core_news_sm-3.3.0/es_core_news_sm-3.3.0-py3-none-any.whl (12.9 MB)\n",
            "\u001b[K     |████████████████████████████████| 12.9 MB 5.5 MB/s \n",
            "\u001b[?25hRequirement already satisfied: spacy<3.4.0,>=3.3.0.dev0 in /usr/local/lib/python3.7/dist-packages (from es-core-news-sm==3.3.0) (3.3.1)\n",
            "Requirement already satisfied: preshed<3.1.0,>=3.0.2 in /usr/local/lib/python3.7/dist-packages (from spacy<3.4.0,>=3.3.0.dev0->es-core-news-sm==3.3.0) (3.0.6)\n",
            "Requirement already satisfied: spacy-loggers<2.0.0,>=1.0.0 in /usr/local/lib/python3.7/dist-packages (from spacy<3.4.0,>=3.3.0.dev0->es-core-news-sm==3.3.0) (1.0.2)\n",
            "Requirement already satisfied: catalogue<2.1.0,>=2.0.6 in /usr/local/lib/python3.7/dist-packages (from spacy<3.4.0,>=3.3.0.dev0->es-core-news-sm==3.3.0) (2.0.7)\n",
            "Requirement already satisfied: tqdm<5.0.0,>=4.38.0 in /usr/local/lib/python3.7/dist-packages (from spacy<3.4.0,>=3.3.0.dev0->es-core-news-sm==3.3.0) (4.64.0)\n",
            "Requirement already satisfied: thinc<8.1.0,>=8.0.14 in /usr/local/lib/python3.7/dist-packages (from spacy<3.4.0,>=3.3.0.dev0->es-core-news-sm==3.3.0) (8.0.17)\n",
            "Requirement already satisfied: pydantic!=1.8,!=1.8.1,<1.9.0,>=1.7.4 in /usr/local/lib/python3.7/dist-packages (from spacy<3.4.0,>=3.3.0.dev0->es-core-news-sm==3.3.0) (1.8.2)\n",
            "Requirement already satisfied: jinja2 in /usr/local/lib/python3.7/dist-packages (from spacy<3.4.0,>=3.3.0.dev0->es-core-news-sm==3.3.0) (2.11.3)\n",
            "Requirement already satisfied: langcodes<4.0.0,>=3.2.0 in /usr/local/lib/python3.7/dist-packages (from spacy<3.4.0,>=3.3.0.dev0->es-core-news-sm==3.3.0) (3.3.0)\n",
            "Requirement already satisfied: blis<0.8.0,>=0.4.0 in /usr/local/lib/python3.7/dist-packages (from spacy<3.4.0,>=3.3.0.dev0->es-core-news-sm==3.3.0) (0.7.8)\n",
            "Requirement already satisfied: cymem<2.1.0,>=2.0.2 in /usr/local/lib/python3.7/dist-packages (from spacy<3.4.0,>=3.3.0.dev0->es-core-news-sm==3.3.0) (2.0.6)\n",
            "Requirement already satisfied: wasabi<1.1.0,>=0.9.1 in /usr/local/lib/python3.7/dist-packages (from spacy<3.4.0,>=3.3.0.dev0->es-core-news-sm==3.3.0) (0.9.1)\n",
            "Requirement already satisfied: numpy>=1.15.0 in /usr/local/lib/python3.7/dist-packages (from spacy<3.4.0,>=3.3.0.dev0->es-core-news-sm==3.3.0) (1.21.6)\n",
            "Requirement already satisfied: requests<3.0.0,>=2.13.0 in /usr/local/lib/python3.7/dist-packages (from spacy<3.4.0,>=3.3.0.dev0->es-core-news-sm==3.3.0) (2.23.0)\n",
            "Requirement already satisfied: typing-extensions<4.2.0,>=3.7.4 in /usr/local/lib/python3.7/dist-packages (from spacy<3.4.0,>=3.3.0.dev0->es-core-news-sm==3.3.0) (4.1.1)\n",
            "Requirement already satisfied: pathy>=0.3.5 in /usr/local/lib/python3.7/dist-packages (from spacy<3.4.0,>=3.3.0.dev0->es-core-news-sm==3.3.0) (0.6.2)\n",
            "Requirement already satisfied: setuptools in /usr/local/lib/python3.7/dist-packages (from spacy<3.4.0,>=3.3.0.dev0->es-core-news-sm==3.3.0) (57.4.0)\n",
            "Requirement already satisfied: murmurhash<1.1.0,>=0.28.0 in /usr/local/lib/python3.7/dist-packages (from spacy<3.4.0,>=3.3.0.dev0->es-core-news-sm==3.3.0) (1.0.7)\n",
            "Requirement already satisfied: typer<0.5.0,>=0.3.0 in /usr/local/lib/python3.7/dist-packages (from spacy<3.4.0,>=3.3.0.dev0->es-core-news-sm==3.3.0) (0.4.2)\n",
            "Requirement already satisfied: packaging>=20.0 in /usr/local/lib/python3.7/dist-packages (from spacy<3.4.0,>=3.3.0.dev0->es-core-news-sm==3.3.0) (21.3)\n",
            "Requirement already satisfied: spacy-legacy<3.1.0,>=3.0.9 in /usr/local/lib/python3.7/dist-packages (from spacy<3.4.0,>=3.3.0.dev0->es-core-news-sm==3.3.0) (3.0.9)\n",
            "Requirement already satisfied: srsly<3.0.0,>=2.4.3 in /usr/local/lib/python3.7/dist-packages (from spacy<3.4.0,>=3.3.0.dev0->es-core-news-sm==3.3.0) (2.4.3)\n",
            "Requirement already satisfied: zipp>=0.5 in /usr/local/lib/python3.7/dist-packages (from catalogue<2.1.0,>=2.0.6->spacy<3.4.0,>=3.3.0.dev0->es-core-news-sm==3.3.0) (3.8.0)\n",
            "Requirement already satisfied: pyparsing!=3.0.5,>=2.0.2 in /usr/local/lib/python3.7/dist-packages (from packaging>=20.0->spacy<3.4.0,>=3.3.0.dev0->es-core-news-sm==3.3.0) (3.0.9)\n",
            "Requirement already satisfied: smart-open<6.0.0,>=5.2.1 in /usr/local/lib/python3.7/dist-packages (from pathy>=0.3.5->spacy<3.4.0,>=3.3.0.dev0->es-core-news-sm==3.3.0) (5.2.1)\n",
            "Requirement already satisfied: urllib3!=1.25.0,!=1.25.1,<1.26,>=1.21.1 in /usr/local/lib/python3.7/dist-packages (from requests<3.0.0,>=2.13.0->spacy<3.4.0,>=3.3.0.dev0->es-core-news-sm==3.3.0) (1.24.3)\n",
            "Requirement already satisfied: chardet<4,>=3.0.2 in /usr/local/lib/python3.7/dist-packages (from requests<3.0.0,>=2.13.0->spacy<3.4.0,>=3.3.0.dev0->es-core-news-sm==3.3.0) (3.0.4)\n",
            "Requirement already satisfied: idna<3,>=2.5 in /usr/local/lib/python3.7/dist-packages (from requests<3.0.0,>=2.13.0->spacy<3.4.0,>=3.3.0.dev0->es-core-news-sm==3.3.0) (2.10)\n",
            "Requirement already satisfied: certifi>=2017.4.17 in /usr/local/lib/python3.7/dist-packages (from requests<3.0.0,>=2.13.0->spacy<3.4.0,>=3.3.0.dev0->es-core-news-sm==3.3.0) (2022.6.15)\n",
            "Requirement already satisfied: click<9.0.0,>=7.1.1 in /usr/local/lib/python3.7/dist-packages (from typer<0.5.0,>=0.3.0->spacy<3.4.0,>=3.3.0.dev0->es-core-news-sm==3.3.0) (7.1.2)\n",
            "Requirement already satisfied: MarkupSafe>=0.23 in /usr/local/lib/python3.7/dist-packages (from jinja2->spacy<3.4.0,>=3.3.0.dev0->es-core-news-sm==3.3.0) (2.0.1)\n",
            "Installing collected packages: es-core-news-sm\n",
            "Successfully installed es-core-news-sm-3.3.0\n",
            "\u001b[38;5;2m✔ Download and installation successful\u001b[0m\n",
            "You can now load the package via spacy.load('es_core_news_sm')\n"
          ]
        }
      ]
    },
    {
      "cell_type": "markdown",
      "metadata": {
        "id": "aNiPnKMIDqVA"
      },
      "source": [
        "Importamos las librerías y creamos el objeto \"nlp\" para procesar los textos\n",
        "\n",
        "\n"
      ]
    },
    {
      "cell_type": "code",
      "metadata": {
        "id": "FQLM1Ja1Wtak"
      },
      "source": [
        "import spacy\n",
        "import es_core_news_sm\n",
        "nlp = es_core_news_sm.load()"
      ],
      "execution_count": 15,
      "outputs": []
    },
    {
      "cell_type": "markdown",
      "metadata": {
        "id": "2YKq_qpdDxHA"
      },
      "source": [
        "Guardamos las stop words de Spacy en una variable llamada \"stop_words\". También cogemos los tokens considerados símbolos de punctuación en la variable \"punctuations\":"
      ]
    },
    {
      "cell_type": "code",
      "metadata": {
        "id": "x_Rnj35hXCH_"
      },
      "source": [
        "import string\n",
        "spacy_stopwords = spacy.lang.es.stop_words.STOP_WORDS\n",
        "stop_words = spacy_stopwords\n",
        "punctuations=string.punctuation"
      ],
      "execution_count": 16,
      "outputs": []
    },
    {
      "cell_type": "markdown",
      "metadata": {
        "id": "0NFUlkdsEBUu"
      },
      "source": [
        "Generamos una función \"spacy_tokenizer\" que:"
      ]
    },
    {
      "cell_type": "code",
      "metadata": {
        "id": "k6pGl_YBO7uZ"
      },
      "source": [
        "def spacy_tokenizer(sentence):\n",
        "    # Pasamos la frase por el objeto nlp para procesarla\n",
        "    mytokens = nlp(sentence)\n",
        "\n",
        "    # Lematizamos los tokens y los convertimos  a minusculas\n",
        "    mytokens = [ word.lemma_.lower().strip() if word.lemma_ != \"-PRON-\" else word.lower_ for word in mytokens ]\n",
        "\n",
        "    # Quitamos las stopwords y los signos de puntuacion\n",
        "    mytokens = [ word for word in mytokens if word not in stop_words and word not in punctuations ]\n",
        "\n",
        "    # devolver una lsita de tokens\n",
        "    return mytokens"
      ],
      "execution_count": 17,
      "outputs": []
    },
    {
      "cell_type": "markdown",
      "metadata": {
        "id": "zzZbGtGaD-Vt"
      },
      "source": [
        "Utilizamos esa función como tokenizador en TfidfVectorizer:\n"
      ]
    },
    {
      "cell_type": "code",
      "metadata": {
        "id": "niPHblSRO7jM",
        "outputId": "bc03d96f-6708-4736-ccec-e6108de9f13e",
        "colab": {
          "base_uri": "https://localhost:8080/"
        }
      },
      "source": [
        "tfidf_vectorizer = TfidfVectorizer(norm=None, smooth_idf=False, tokenizer = spacy_tokenizer) # Re-escribimos los valores por defecto para tener el tf-idf básico\n",
        "tfidf_data = tfidf_vectorizer.fit(corpus)"
      ],
      "execution_count": 18,
      "outputs": [
        {
          "output_type": "stream",
          "name": "stderr",
          "text": [
            "/usr/local/lib/python3.7/dist-packages/sklearn/feature_extraction/text.py:517: UserWarning: The parameter 'token_pattern' will not be used since 'tokenizer' is not None'\n",
            "  \"The parameter 'token_pattern' will not be used\"\n"
          ]
        }
      ]
    },
    {
      "cell_type": "code",
      "metadata": {
        "id": "BjKhD6FJEY7G",
        "outputId": "aa804b08-f088-4b16-f1c7-90a28e00e70b",
        "colab": {
          "base_uri": "https://localhost:8080/"
        }
      },
      "source": [
        "print(\"\\n\\n TF-IDF VECTORIZER\")\n",
        "print(\"Obtenemos un dictionario que mapea las palabras con su posición en el vector del vocabulario\")\n",
        "print(tfidf_data.vocabulary_)\n",
        "print(\"Obtenemos el vocabulario en si mismo como una lista\")\n",
        "print(tfidf_data.get_feature_names())\n",
        "print(\"Numero de características:\")\n",
        "print(len(tfidf_data.get_feature_names()))"
      ],
      "execution_count": 23,
      "outputs": [
        {
          "output_type": "stream",
          "name": "stdout",
          "text": [
            "\n",
            "\n",
            " TF-IDF VECTORIZER\n",
            "Obtenemos un dictionario que mapea las palabras con su posición en el vector del vocabulario\n",
            "{'querer': 3, 'agua': 0, 'cocacola': 1, 'vino': 4, 'entrecot': 2}\n",
            "Obtenemos el vocabulario en si mismo como una lista\n",
            "['agua', 'cocacola', 'entrecot', 'querer', 'vino']\n",
            "Numero de características:\n",
            "5\n"
          ]
        },
        {
          "output_type": "stream",
          "name": "stderr",
          "text": [
            "/usr/local/lib/python3.7/dist-packages/sklearn/utils/deprecation.py:87: FutureWarning: Function get_feature_names is deprecated; get_feature_names is deprecated in 1.0 and will be removed in 1.2. Please use get_feature_names_out instead.\n",
            "  warnings.warn(msg, category=FutureWarning)\n"
          ]
        }
      ]
    },
    {
      "cell_type": "markdown",
      "source": [
        "El numero de caracteristicas ha disminuido, ya no está el término \"un\" y \"no\""
      ],
      "metadata": {
        "id": "R9Etou31lqBg"
      }
    },
    {
      "cell_type": "markdown",
      "metadata": {
        "id": "70q1LsT6BnQ_"
      },
      "source": [
        "**Ejercicio**: \n",
        "\n",
        "Queremos transformar nuestro dataset de noticias con las siguientes especificaciones:\n",
        " - Transformar los primeros 3000 documentos \n",
        " - Se utilice idf y el valor de norm por defecto.\n",
        " - Se utilice la función de preprocesado de spacy utilizada anteriormente\n",
        " - Se consideren unigramas, bigramas, trigramas\n",
        " - Se consideren un máximo de 250 características (max_features)\n",
        " - El vectorizador no debe considerar los elementos que aparezcan en menos del 5% de documentos."
      ]
    },
    {
      "cell_type": "code",
      "metadata": {
        "id": "EdgVDoaZBmdI",
        "outputId": "f8cc56e2-58a7-4a3a-a2da-da212b4c85de",
        "colab": {
          "base_uri": "https://localhost:8080/"
        }
      },
      "source": [
        "# Dataset de noticias\n",
        "!wget \"https://github.com/luisgasco/ntic_master_datos/raw/main/datasets/news_summary.csv\""
      ],
      "execution_count": 24,
      "outputs": [
        {
          "output_type": "stream",
          "name": "stdout",
          "text": [
            "--2022-07-15 11:21:23--  https://github.com/luisgasco/ntic_master_datos/raw/main/datasets/news_summary.csv\n",
            "Resolving github.com (github.com)... 140.82.113.4\n",
            "Connecting to github.com (github.com)|140.82.113.4|:443... connected.\n",
            "HTTP request sent, awaiting response... 302 Found\n",
            "Location: https://raw.githubusercontent.com/luisgasco/ntic_master_datos/main/datasets/news_summary.csv [following]\n",
            "--2022-07-15 11:21:23--  https://raw.githubusercontent.com/luisgasco/ntic_master_datos/main/datasets/news_summary.csv\n",
            "Resolving raw.githubusercontent.com (raw.githubusercontent.com)... 185.199.110.133, 185.199.111.133, 185.199.109.133, ...\n",
            "Connecting to raw.githubusercontent.com (raw.githubusercontent.com)|185.199.110.133|:443... connected.\n",
            "HTTP request sent, awaiting response... 200 OK\n",
            "Length: 11896415 (11M) [text/plain]\n",
            "Saving to: ‘news_summary.csv’\n",
            "\n",
            "news_summary.csv    100%[===================>]  11.34M  --.-KB/s    in 0.1s    \n",
            "\n",
            "2022-07-15 11:21:23 (117 MB/s) - ‘news_summary.csv’ saved [11896415/11896415]\n",
            "\n"
          ]
        }
      ]
    },
    {
      "cell_type": "code",
      "metadata": {
        "id": "e0AlbRlGCzBp"
      },
      "source": [
        "import pandas as pd\n",
        "news_summary = pd.read_csv('../content/news_summary.csv', encoding='latin-1')\n",
        "news_subset = news_summary[\"text\"].to_list()[0:3000]"
      ],
      "execution_count": 25,
      "outputs": []
    },
    {
      "cell_type": "code",
      "metadata": {
        "id": "Wa7l5c_51DpI",
        "outputId": "964c4fd4-12e1-4b08-b98e-9b7f405710a7",
        "colab": {
          "base_uri": "https://localhost:8080/"
        }
      },
      "source": [
        "tfidf_vect = TfidfVectorizer(norm=\"l2\", use_idf=True, tokenizer=spacy_tokenizer, ngram_range=(1,3), max_features=250, min_df=0.05, lowercase=False)\n",
        "tfidf_data = tfidf_vectorizer.fit(news_subset)"
      ],
      "execution_count": 26,
      "outputs": [
        {
          "output_type": "stream",
          "name": "stderr",
          "text": [
            "/usr/local/lib/python3.7/dist-packages/sklearn/feature_extraction/text.py:517: UserWarning: The parameter 'token_pattern' will not be used since 'tokenizer' is not None'\n",
            "  \"The parameter 'token_pattern' will not be used\"\n"
          ]
        }
      ]
    },
    {
      "cell_type": "markdown",
      "source": [
        "Tarda bastante, es mejor usar el tokenizer antes, preprocesar y despues ya hacer el entrenamiento"
      ],
      "metadata": {
        "id": "OG9dWG9pnIN-"
      }
    },
    {
      "cell_type": "code",
      "metadata": {
        "id": "DYkkGStl2dRk",
        "outputId": "31b6de46-3cc1-4b7f-b503-43a6525aaf57",
        "colab": {
          "base_uri": "https://localhost:8080/"
        }
      },
      "source": [
        "tfidf_data.get_feature_names()"
      ],
      "execution_count": 27,
      "outputs": [
        {
          "output_type": "stream",
          "name": "stderr",
          "text": [
            "/usr/local/lib/python3.7/dist-packages/sklearn/utils/deprecation.py:87: FutureWarning: Function get_feature_names is deprecated; get_feature_names is deprecated in 1.0 and will be removed in 1.2. Please use get_feature_names_out instead.\n",
            "  warnings.warn(msg, category=FutureWarning)\n"
          ]
        },
        {
          "output_type": "execute_result",
          "data": {
            "text/plain": [
              "['\"n',\n",
              " '\"nn',\n",
              " \"(deadpool's\",\n",
              " '-270ºc',\n",
              " '-70',\n",
              " '..',\n",
              " '...',\n",
              " '....',\n",
              " '0',\n",
              " '0-3',\n",
              " '0.005%',\n",
              " '0.007%',\n",
              " '0.27%',\n",
              " '0.5',\n",
              " '0.5%',\n",
              " '0.62:1000',\n",
              " '0.9%',\n",
              " '0001',\n",
              " '0002',\n",
              " '0009',\n",
              " '1',\n",
              " '1%',\n",
              " '1-0',\n",
              " '1-1',\n",
              " '1-4',\n",
              " '1-6',\n",
              " '1.0',\n",
              " '1.000',\n",
              " '1.000-crore',\n",
              " '1.000-plus',\n",
              " '1.000-run',\n",
              " '1.000-square-yard',\n",
              " '1.005',\n",
              " '1.05',\n",
              " '1.084',\n",
              " '1.1',\n",
              " '1.100',\n",
              " '1.12',\n",
              " '1.123',\n",
              " '1.15',\n",
              " '1.17',\n",
              " '1.171',\n",
              " '1.2',\n",
              " '1.200',\n",
              " '1.25',\n",
              " '1.263',\n",
              " '1.29',\n",
              " '1.3',\n",
              " '1.3%',\n",
              " '1.3-?2',\n",
              " '1.300',\n",
              " '1.301',\n",
              " '1.327',\n",
              " '1.33',\n",
              " '1.339',\n",
              " '1.36',\n",
              " '1.4',\n",
              " '1.400',\n",
              " '1.5',\n",
              " '1.5%',\n",
              " '1.5-foot-tall',\n",
              " '1.5/5',\n",
              " '1.500',\n",
              " '1.550',\n",
              " '1.56',\n",
              " '1.566',\n",
              " '1.6',\n",
              " '1.600',\n",
              " '1.610',\n",
              " '1.66',\n",
              " '1.690',\n",
              " '1.7',\n",
              " '1.70',\n",
              " '1.700',\n",
              " '1.732',\n",
              " '1.744',\n",
              " '1.77',\n",
              " '1.78',\n",
              " '1.8',\n",
              " '1.80',\n",
              " '1.800',\n",
              " '1.819',\n",
              " '1.844',\n",
              " '1.864',\n",
              " '1.93',\n",
              " '1.98',\n",
              " '1/5',\n",
              " '10',\n",
              " '10%',\n",
              " '10-15',\n",
              " '10-15%',\n",
              " '10-21',\n",
              " '10-7',\n",
              " '10-8',\n",
              " '10-crore',\n",
              " '10-km-long',\n",
              " '10-member',\n",
              " '10-metre',\n",
              " '10-wheeler',\n",
              " '10-year',\n",
              " '10-year-long',\n",
              " '10-year-old',\n",
              " '10.000',\n",
              " '10.184',\n",
              " '10.300',\n",
              " '10.4',\n",
              " '10.43',\n",
              " '10.80',\n",
              " '10.98.882',\n",
              " '100',\n",
              " '100%',\n",
              " '100-billion',\n",
              " '100-bolivar',\n",
              " '100-crore',\n",
              " '100-foot',\n",
              " '100-km',\n",
              " '100-metre',\n",
              " '100.000',\n",
              " '1000',\n",
              " '100th',\n",
              " '102',\n",
              " '103',\n",
              " '104',\n",
              " '105',\n",
              " '105-year-old',\n",
              " '106',\n",
              " '106.25',\n",
              " '106th',\n",
              " '108',\n",
              " '10th',\n",
              " '10th-wicket',\n",
              " '11',\n",
              " '11%',\n",
              " '11-12',\n",
              " '11-15',\n",
              " '11-3',\n",
              " '11-4',\n",
              " '11-7',\n",
              " '11-storey',\n",
              " '11-year-old',\n",
              " '11.30',\n",
              " '11.38',\n",
              " '11.44',\n",
              " '11.58',\n",
              " '11.668',\n",
              " '11.78',\n",
              " '11.876',\n",
              " '110',\n",
              " '111',\n",
              " '112',\n",
              " '114',\n",
              " '115',\n",
              " '116',\n",
              " '116.09',\n",
              " '117-member',\n",
              " '118',\n",
              " '119',\n",
              " '11th',\n",
              " '12',\n",
              " '12%',\n",
              " '12-14',\n",
              " '12-15',\n",
              " '12-km-long',\n",
              " '12-minute',\n",
              " '12-sheeter',\n",
              " '12-sided',\n",
              " '12-year-long',\n",
              " '12-year-old',\n",
              " '12.000',\n",
              " '12.372%',\n",
              " '12.400%',\n",
              " '12.500',\n",
              " '12.60',\n",
              " '12.642',\n",
              " '120',\n",
              " '120-year-old',\n",
              " '120.000',\n",
              " '1200',\n",
              " '121',\n",
              " '121-kilometre',\n",
              " '122',\n",
              " '123.5',\n",
              " '124',\n",
              " '125',\n",
              " '125.000',\n",
              " '125.95',\n",
              " '125th-anniversary',\n",
              " '126',\n",
              " '127',\n",
              " '128',\n",
              " '129th',\n",
              " '12:25',\n",
              " '12:30',\n",
              " '12th',\n",
              " '12x6',\n",
              " '13',\n",
              " '13%',\n",
              " '13,266',\n",
              " '13-15',\n",
              " '13-29',\n",
              " '13-day',\n",
              " '13-hour',\n",
              " '13-man',\n",
              " '13-year-old',\n",
              " '13.000',\n",
              " '13.000-crore',\n",
              " '13.127',\n",
              " '13.200',\n",
              " '13.288',\n",
              " '13.4',\n",
              " '13.40',\n",
              " '13.41',\n",
              " '13.5',\n",
              " '13.83%',\n",
              " '131',\n",
              " '132',\n",
              " '132nd',\n",
              " '135',\n",
              " '13th',\n",
              " '14',\n",
              " '14%',\n",
              " '14-day',\n",
              " '14-month-old',\n",
              " '14-time',\n",
              " '14-year-old',\n",
              " '14.000',\n",
              " '14.5',\n",
              " '14.753',\n",
              " '14.90',\n",
              " '140',\n",
              " '140.000',\n",
              " '142',\n",
              " '142%',\n",
              " '144',\n",
              " '14444',\n",
              " '145',\n",
              " '146',\n",
              " '146.000',\n",
              " '147.8',\n",
              " '14th',\n",
              " '15',\n",
              " '15%',\n",
              " '15-20',\n",
              " '15-35%',\n",
              " '15-59',\n",
              " '15-month',\n",
              " '15-year-old',\n",
              " '15.000',\n",
              " '15.06',\n",
              " '15.4',\n",
              " '15.44',\n",
              " '15.651',\n",
              " '15.900-?39.100',\n",
              " '150',\n",
              " '150-foot',\n",
              " '150-run',\n",
              " '150-year-old',\n",
              " '150ºc',\n",
              " '152',\n",
              " '154',\n",
              " '156',\n",
              " '157',\n",
              " '157-year-old',\n",
              " '158',\n",
              " '15th',\n",
              " '16',\n",
              " '16%',\n",
              " '16-car',\n",
              " '16-coach',\n",
              " '16-day',\n",
              " '16-point',\n",
              " '16-year',\n",
              " '16-year-long',\n",
              " '16-year-old',\n",
              " '16.000',\n",
              " '16.200',\n",
              " '16.274',\n",
              " '160',\n",
              " '161',\n",
              " '162-year-old',\n",
              " '1635',\n",
              " '164%',\n",
              " '1648',\n",
              " '167',\n",
              " '168-178',\n",
              " '169',\n",
              " '16a',\n",
              " '16th',\n",
              " '16x8',\n",
              " '17',\n",
              " '17-19',\n",
              " '17-year-old',\n",
              " '17.000',\n",
              " '17.390',\n",
              " '17.5',\n",
              " '17.7',\n",
              " '170',\n",
              " '171',\n",
              " '171-km',\n",
              " '171-run',\n",
              " '172-year-old',\n",
              " '173',\n",
              " '174',\n",
              " '174.3',\n",
              " '175',\n",
              " '178',\n",
              " '179th',\n",
              " '17th',\n",
              " '17th-century',\n",
              " '18',\n",
              " '18%',\n",
              " '18-22',\n",
              " '18-24',\n",
              " '18-month-old',\n",
              " '18-time',\n",
              " '18-year-old',\n",
              " '18-year-olds',\n",
              " '18.000',\n",
              " '18.03',\n",
              " '18.11',\n",
              " '18.126',\n",
              " '18.2%',\n",
              " '18.790',\n",
              " '18/9',\n",
              " '180',\n",
              " '180-191',\n",
              " '180-run',\n",
              " '1800',\n",
              " '1800s',\n",
              " '181',\n",
              " '182',\n",
              " '182-member',\n",
              " '1842',\n",
              " '185',\n",
              " '1855',\n",
              " '186',\n",
              " '1868',\n",
              " '1877',\n",
              " '1889',\n",
              " '1890',\n",
              " '1898',\n",
              " '18th',\n",
              " '19',\n",
              " '19-year-old',\n",
              " '19.000',\n",
              " '19.4',\n",
              " '190',\n",
              " '190-year-old',\n",
              " '1900s',\n",
              " '191',\n",
              " '1911',\n",
              " '1914',\n",
              " '1918',\n",
              " '192',\n",
              " '192-meter',\n",
              " '1923',\n",
              " '1927',\n",
              " '1931',\n",
              " '1932',\n",
              " '1937',\n",
              " '194',\n",
              " '1944',\n",
              " '1945-1946',\n",
              " '1946-1958',\n",
              " '1947',\n",
              " '1948',\n",
              " '1950',\n",
              " '1950s',\n",
              " '1951',\n",
              " '1952',\n",
              " '1953',\n",
              " '1954',\n",
              " '1957',\n",
              " '1958',\n",
              " '1959',\n",
              " '196',\n",
              " '1960',\n",
              " '1962',\n",
              " '1963',\n",
              " '1966',\n",
              " '1967',\n",
              " '1969',\n",
              " '1969-batch',\n",
              " \"1970's\",\n",
              " '1970s',\n",
              " '1971',\n",
              " '1972',\n",
              " '1973',\n",
              " '1974',\n",
              " '1975',\n",
              " '1975-77',\n",
              " '1976',\n",
              " '1977',\n",
              " '1978',\n",
              " '1978-batch',\n",
              " '1979',\n",
              " '198',\n",
              " '1980',\n",
              " '1980s',\n",
              " '1981',\n",
              " '1981-batch',\n",
              " '1982',\n",
              " '1983',\n",
              " '1984',\n",
              " '1985',\n",
              " '1987',\n",
              " '1988',\n",
              " '1989',\n",
              " '199',\n",
              " '1990',\n",
              " '1991',\n",
              " '1992',\n",
              " '1993',\n",
              " '1994',\n",
              " '1995',\n",
              " '1995-batch',\n",
              " '1996',\n",
              " '1996.n',\n",
              " '1997',\n",
              " '1998',\n",
              " '1999',\n",
              " '19th',\n",
              " '19th-century',\n",
              " '1:1000',\n",
              " '2',\n",
              " '2%',\n",
              " \"2's\",\n",
              " '2,000-kilometre',\n",
              " '2-3',\n",
              " '2-4',\n",
              " '2-6',\n",
              " '2-month',\n",
              " '2-week-long',\n",
              " '2-year-old',\n",
              " '2.00.000',\n",
              " '2.000',\n",
              " '2.029',\n",
              " '2.05',\n",
              " '2.069',\n",
              " '2.14',\n",
              " '2.15.551',\n",
              " '2.199',\n",
              " '2.25',\n",
              " '2.275',\n",
              " '2.297',\n",
              " '2.300',\n",
              " '2.37',\n",
              " '2.406%',\n",
              " '2.41',\n",
              " '2.43',\n",
              " '2.46',\n",
              " '2.5',\n",
              " '2.5/5',\n",
              " '2.500',\n",
              " '2.525%',\n",
              " '2.55%',\n",
              " '2.6',\n",
              " '2.61',\n",
              " '2.66',\n",
              " '2.7',\n",
              " '2.700',\n",
              " '2.800',\n",
              " '2.930',\n",
              " '2.992',\n",
              " '2/5',\n",
              " '20',\n",
              " '20%',\n",
              " '20,450',\n",
              " '20-22',\n",
              " '20-24',\n",
              " '20-25',\n",
              " '20-30%',\n",
              " '20-year-old',\n",
              " '20.000',\n",
              " '20.3%',\n",
              " '200',\n",
              " '200-meter',\n",
              " '200-year-old',\n",
              " '200.000',\n",
              " '2000',\n",
              " '2000-year-old',\n",
              " '2002',\n",
              " '2003',\n",
              " '2003.n',\n",
              " '2003/04',\n",
              " '2004',\n",
              " '2005',\n",
              " '2006',\n",
              " '2007',\n",
              " '2007-08',\n",
              " '2008',\n",
              " '2008-2009',\n",
              " '2009',\n",
              " '2009-2014',\n",
              " '200th',\n",
              " '2010',\n",
              " '2010-12',\n",
              " '2010-2015',\n",
              " '2011',\n",
              " '2011-16',\n",
              " '2012',\n",
              " '2013',\n",
              " \"2013's\",\n",
              " '2013-14',\n",
              " '2014',\n",
              " '2014-15',\n",
              " '2015',\n",
              " '2015-16',\n",
              " '2015-2016',\n",
              " '2015]',\n",
              " '2016',\n",
              " '2016).nn',\n",
              " '2016-17',\n",
              " '2017',\n",
              " '2017-18',\n",
              " '2017-2018',\n",
              " '2018',\n",
              " '2019',\n",
              " '2020',\n",
              " \"2020's\",\n",
              " '2021',\n",
              " '2022',\n",
              " '2023',\n",
              " '2024',\n",
              " '2026',\n",
              " '2030',\n",
              " '2032',\n",
              " '204.2',\n",
              " '205*(364',\n",
              " '206-216',\n",
              " '20s',\n",
              " '20th',\n",
              " '21',\n",
              " '21%',\n",
              " '21-12',\n",
              " '21-13',\n",
              " '21-15',\n",
              " '21-16',\n",
              " '21-19',\n",
              " '21-gun',\n",
              " '21-month-old',\n",
              " '21-year',\n",
              " '21-year-old',\n",
              " '21.000',\n",
              " '21.966',\n",
              " '210',\n",
              " '2100',\n",
              " '211',\n",
              " '212',\n",
              " '213',\n",
              " '214',\n",
              " '216',\n",
              " '217',\n",
              " '219',\n",
              " '21st',\n",
              " '22',\n",
              " '22%',\n",
              " '22-20',\n",
              " '22-25',\n",
              " '22-year-old',\n",
              " '22.000',\n",
              " '22.095',\n",
              " '22.50',\n",
              " '22.55',\n",
              " '22.63',\n",
              " '221',\n",
              " '225,000',\n",
              " '227',\n",
              " '22nd',\n",
              " '23',\n",
              " '23-day',\n",
              " '23-time',\n",
              " '23-year-old',\n",
              " '23.5-km',\n",
              " '232',\n",
              " '234',\n",
              " '235',\n",
              " '23rd',\n",
              " '24',\n",
              " '24-hour',\n",
              " '24-year',\n",
              " '24-year-old',\n",
              " '24.000',\n",
              " '24/7',\n",
              " '240',\n",
              " '2400',\n",
              " '243-seat',\n",
              " '245',\n",
              " '24x7',\n",
              " '25',\n",
              " '25%',\n",
              " '25,000',\n",
              " '25-30%',\n",
              " '25-million-strong',\n",
              " '25-year-old',\n",
              " '25.000',\n",
              " '25.3',\n",
              " '25.4',\n",
              " '25.95',\n",
              " '250',\n",
              " '250-million',\n",
              " '250.000',\n",
              " '251',\n",
              " '258.42',\n",
              " '25th',\n",
              " '26',\n",
              " '26-week',\n",
              " '26-year-old',\n",
              " '26.000',\n",
              " '26.10',\n",
              " '26.42',\n",
              " '26.5',\n",
              " '26.5-km',\n",
              " '26/11',\n",
              " '260',\n",
              " '27',\n",
              " '27-lakh',\n",
              " '27-year-old',\n",
              " '27.8',\n",
              " '272',\n",
              " '275-550',\n",
              " '277',\n",
              " '279',\n",
              " '28',\n",
              " '28%',\n",
              " '28-year-old',\n",
              " '28.8',\n",
              " '28.9',\n",
              " '285',\n",
              " '288',\n",
              " '289',\n",
              " '28th',\n",
              " '29',\n",
              " '29-year-old',\n",
              " '29.37%',\n",
              " '29.999',\n",
              " '293',\n",
              " '29th',\n",
              " '2:00',\n",
              " '2a',\n",
              " '2b',\n",
              " '3',\n",
              " \"3's\",\n",
              " '3,000-year-old',\n",
              " '3-0',\n",
              " '3-10',\n",
              " '3-4',\n",
              " '3-6',\n",
              " '3-fold',\n",
              " '3-year-old',\n",
              " '3.000',\n",
              " '3.000-',\n",
              " '3.09',\n",
              " '3.200',\n",
              " '3.26%',\n",
              " '3.27',\n",
              " '3.275',\n",
              " '3.3',\n",
              " '3.31.765',\n",
              " '3.4',\n",
              " '3.43',\n",
              " '3.433',\n",
              " '3.44',\n",
              " '3.5',\n",
              " '3.5/5',\n",
              " '3.500',\n",
              " '3.54',\n",
              " '3.540-km',\n",
              " '3.6',\n",
              " '3.600',\n",
              " '3.640',\n",
              " '3.67.314',\n",
              " '3.7',\n",
              " '3.700',\n",
              " '3.75',\n",
              " '3.8',\n",
              " '3.800',\n",
              " '3.820',\n",
              " '3.84',\n",
              " '3.865',\n",
              " '3.900',\n",
              " '3.905',\n",
              " '3.951',\n",
              " '3/5',\n",
              " '30',\n",
              " '30%',\n",
              " '30-34',\n",
              " '30-50',\n",
              " '30-minute',\n",
              " '30-year-old',\n",
              " '30.000',\n",
              " '30.17',\n",
              " '30.25',\n",
              " '30.500',\n",
              " '300',\n",
              " '300-400',\n",
              " '300.000',\n",
              " '302*(469',\n",
              " '303',\n",
              " '304',\n",
              " '307',\n",
              " '30s',\n",
              " '31',\n",
              " '31%',\n",
              " '31-year-old',\n",
              " '31.258',\n",
              " '31.51%',\n",
              " '31.54%',\n",
              " '316-run',\n",
              " '31st',\n",
              " '32',\n",
              " '32%',\n",
              " '32-competitor',\n",
              " '32-feet-tall',\n",
              " '32-team',\n",
              " '32-title-winning',\n",
              " '32-week-old',\n",
              " '32-year-old',\n",
              " '32.50',\n",
              " '32.500',\n",
              " '32.627%',\n",
              " '32.999',\n",
              " '324',\n",
              " '325',\n",
              " '326',\n",
              " '329',\n",
              " '33',\n",
              " '33%',\n",
              " '33-year',\n",
              " '33-year-old',\n",
              " '331',\n",
              " '335',\n",
              " '34',\n",
              " '34%',\n",
              " '34-year-old',\n",
              " '34.000',\n",
              " '340',\n",
              " '340.8',\n",
              " '341.96',\n",
              " '341/400',\n",
              " '342',\n",
              " '34th',\n",
              " '35',\n",
              " '35%',\n",
              " '35(a',\n",
              " '35-a',\n",
              " '35-year',\n",
              " '35-year-old',\n",
              " '35.000',\n",
              " '350',\n",
              " '354',\n",
              " '359',\n",
              " '35th',\n",
              " '36',\n",
              " '36%',\n",
              " '36-year-old',\n",
              " '36.000',\n",
              " '360',\n",
              " '360-degree',\n",
              " '360-feet',\n",
              " '365',\n",
              " '37',\n",
              " '37-ball',\n",
              " '37-year-old',\n",
              " '37.5-kilowatt',\n",
              " '371-kg',\n",
              " '377',\n",
              " '37th',\n",
              " '38',\n",
              " '38%',\n",
              " '38-158',\n",
              " '38-year-old',\n",
              " '38.000',\n",
              " '38.761',\n",
              " '387',\n",
              " '39',\n",
              " '39-43',\n",
              " '39-year-old',\n",
              " '393',\n",
              " '399/3',\n",
              " '3:30',\n",
              " '4',\n",
              " '4,200-year-old',\n",
              " '4-0',\n",
              " '4-6',\n",
              " '4-year',\n",
              " '4-year-old',\n",
              " '4.000',\n",
              " '4.000-5.000',\n",
              " '4.005',\n",
              " '4.050',\n",
              " '4.060',\n",
              " '4.120',\n",
              " '4.22',\n",
              " '4.29',\n",
              " '4.49',\n",
              " '4.5',\n",
              " '4.5/5',\n",
              " '4.500',\n",
              " '4.6',\n",
              " '4.600',\n",
              " '4.63',\n",
              " '4.7',\n",
              " '4.843',\n",
              " '4.93',\n",
              " '4.94',\n",
              " '4/5',\n",
              " '40',\n",
              " '40%',\n",
              " '40-member',\n",
              " '40-year-old',\n",
              " '40.000',\n",
              " '40.000-litre',\n",
              " '40.759',\n",
              " '40.917',\n",
              " '400',\n",
              " '400%',\n",
              " '400-acre',\n",
              " '400.000-a-week',\n",
              " '403-member',\n",
              " '403.75',\n",
              " '406',\n",
              " '40th',\n",
              " '41',\n",
              " '41-44',\n",
              " '41-year-old',\n",
              " '419-3',\n",
              " '41st',\n",
              " '42',\n",
              " '42,968',\n",
              " '42-year-old',\n",
              " '42.000',\n",
              " '42.000-square-metre',\n",
              " '420',\n",
              " '423',\n",
              " '426',\n",
              " '42nd',\n",
              " '43',\n",
              " '43%',\n",
              " '43-year-old',\n",
              " '43.000',\n",
              " '433',\n",
              " '436',\n",
              " '439',\n",
              " '44',\n",
              " '44-year-old',\n",
              " '44.000',\n",
              " '44.152',\n",
              " '44.18%',\n",
              " '440',\n",
              " '449',\n",
              " '45',\n",
              " '45%',\n",
              " '45-day',\n",
              " '45-year-old',\n",
              " '45.000',\n",
              " '45.15%',\n",
              " '450',\n",
              " '450-foot-deep',\n",
              " '45th',\n",
              " '46',\n",
              " '46%',\n",
              " '46-athlete',\n",
              " '460',\n",
              " '47',\n",
              " '47-year-old',\n",
              " '475',\n",
              " '48',\n",
              " '48%',\n",
              " '48-team',\n",
              " '48-year-old',\n",
              " '48th',\n",
              " '49',\n",
              " '49%',\n",
              " '49.25%',\n",
              " '49.5%',\n",
              " '49.999',\n",
              " '495',\n",
              " '4th',\n",
              " '4x100',\n",
              " '4x100-metre',\n",
              " '4ºc',\n",
              " '5',\n",
              " '5%',\n",
              " '5-1',\n",
              " '5-44%',\n",
              " '5-6',\n",
              " '5-7',\n",
              " '5-9',\n",
              " '5-week',\n",
              " '5-year-old',\n",
              " '5.000',\n",
              " '5.2',\n",
              " '5.300',\n",
              " '5.4',\n",
              " '5.4-carat',\n",
              " '5.400',\n",
              " '5.5',\n",
              " '5.500',\n",
              " '5.6',\n",
              " '5.600',\n",
              " '5.81',\n",
              " '5/5',\n",
              " '50',\n",
              " '50%',\n",
              " '50%-60%',\n",
              " '50-60%',\n",
              " '50-65',\n",
              " '50-crore',\n",
              " '50-day',\n",
              " '50-lakh',\n",
              " '50-metre',\n",
              " '50-million',\n",
              " '50-over',\n",
              " '50-year-old',\n",
              " '50.000',\n",
              " '500',\n",
              " '500-crore',\n",
              " '500-mark',\n",
              " '500.000',\n",
              " '50:50',\n",
              " '50th',\n",
              " '51',\n",
              " '51-year-old',\n",
              " '519',\n",
              " '52',\n",
              " '52%',\n",
              " '52-year-old',\n",
              " '52.000-crore',\n",
              " '523',\n",
              " '53',\n",
              " '53%',\n",
              " '53-year-old',\n",
              " '53.500',\n",
              " '534',\n",
              " '538-metre-long',\n",
              " '54',\n",
              " '54%',\n",
              " '54-second',\n",
              " '54.000',\n",
              " '54.482',\n",
              " '540',\n",
              " '546',\n",
              " '55',\n",
              " '55-year-old',\n",
              " '55.000',\n",
              " '55.5',\n",
              " '552',\n",
              " '559',\n",
              " '55th',\n",
              " '56',\n",
              " '56%',\n",
              " '56-62',\n",
              " '56-year-old',\n",
              " '56.000',\n",
              " '56.5',\n",
              " '57',\n",
              " '57-year-old',\n",
              " '572',\n",
              " '58',\n",
              " '58.030',\n",
              " '59',\n",
              " '59-year-old',\n",
              " '597',\n",
              " '5th',\n",
              " '6',\n",
              " '6,500-word',\n",
              " '6-0',\n",
              " '6-1',\n",
              " '6-2',\n",
              " '6-3',\n",
              " '6-4',\n",
              " '6-7',\n",
              " '6-7(5',\n",
              " '6-hour-long',\n",
              " '6-year',\n",
              " '6.000',\n",
              " '6.117',\n",
              " '6.17',\n",
              " '6.178',\n",
              " '6.24',\n",
              " '6.4',\n",
              " '6.4-inch',\n",
              " '6.400',\n",
              " '6.494',\n",
              " '6.5',\n",
              " '6.76',\n",
              " '6.8',\n",
              " '60',\n",
              " '60%',\n",
              " '60-65',\n",
              " '60-day',\n",
              " '60-kg',\n",
              " '60-member',\n",
              " '60-year',\n",
              " '60-year-old',\n",
              " '60.000',\n",
              " '600',\n",
              " '600-year-old',\n",
              " '61',\n",
              " ...]"
            ]
          },
          "metadata": {},
          "execution_count": 27
        }
      ]
    },
    {
      "cell_type": "markdown",
      "source": [
        "Observamos que se nos ha olvidado quitar los numeros. Este tipo de tokens deberian ser procesados antes."
      ],
      "metadata": {
        "id": "nbOERfdXnU4m"
      }
    },
    {
      "cell_type": "markdown",
      "source": [
        "### Diferencias entre BoW y TF-IDF\n"
      ],
      "metadata": {
        "id": "WCrHf9PfL4rE"
      }
    },
    {
      "cell_type": "markdown",
      "source": [
        "Hasta el momento hemos visto diferente maneras de realizar la representación de documentos utilizando el método BoW y TF-IDF. \n",
        "Sin embargo, ¿Qué implica realmente utilizar un método u otro? \n",
        "\n",
        "La clave de TF-IDF es su penalización de palabras comunes en todos los documentos. Para ver su efecto, en este apartado vamos a:\n",
        "1. Descargar un conjunto de documentos de wikipedia\n",
        "2. Preprocesarlos\n",
        "3. Mostrar los 10 términos más importantes para BoW y Tf-IDF, y ver las diferencias"
      ],
      "metadata": {
        "id": "FOE0JENtaEAc"
      }
    },
    {
      "cell_type": "markdown",
      "source": [
        "En primer lugar importanmos y descargamos las librerías que utilizaremos\n"
      ],
      "metadata": {
        "id": "hsmWpxPhbxuI"
      }
    },
    {
      "cell_type": "code",
      "source": [
        "!pip install wikipedia\n",
        "import wikipedia\n",
        "import spacy\n",
        "import collections\n",
        "import math\n",
        "from sklearn.feature_extraction.text import CountVectorizer,TfidfVectorizer\n",
        "from sklearn.feature_extraction import text\n",
        "import string\n",
        "import numpy as np\n",
        "import re\n",
        "\n",
        "nlp = spacy.load(\"en_core_web_sm\")\n",
        "spacy_stopwords = spacy.lang.en.stop_words.STOP_WORDS\n",
        "stop_words = spacy_stopwords\n",
        "punctuations=string.punctuation\n",
        "RE_WHITESPACE = re.compile(r\"\\s+\")\n"
      ],
      "metadata": {
        "id": "Mr63VVHsMZCw",
        "outputId": "5835a4b1-307b-4333-d46e-f0be81c10521",
        "colab": {
          "base_uri": "https://localhost:8080/"
        }
      },
      "execution_count": 31,
      "outputs": [
        {
          "output_type": "stream",
          "name": "stdout",
          "text": [
            "Looking in indexes: https://pypi.org/simple, https://us-python.pkg.dev/colab-wheels/public/simple/\n",
            "Requirement already satisfied: wikipedia in /usr/local/lib/python3.7/dist-packages (1.4.0)\n",
            "Requirement already satisfied: requests<3.0.0,>=2.0.0 in /usr/local/lib/python3.7/dist-packages (from wikipedia) (2.23.0)\n",
            "Requirement already satisfied: beautifulsoup4 in /usr/local/lib/python3.7/dist-packages (from wikipedia) (4.6.3)\n",
            "Requirement already satisfied: urllib3!=1.25.0,!=1.25.1,<1.26,>=1.21.1 in /usr/local/lib/python3.7/dist-packages (from requests<3.0.0,>=2.0.0->wikipedia) (1.24.3)\n",
            "Requirement already satisfied: certifi>=2017.4.17 in /usr/local/lib/python3.7/dist-packages (from requests<3.0.0,>=2.0.0->wikipedia) (2022.6.15)\n",
            "Requirement already satisfied: chardet<4,>=3.0.2 in /usr/local/lib/python3.7/dist-packages (from requests<3.0.0,>=2.0.0->wikipedia) (3.0.4)\n",
            "Requirement already satisfied: idna<3,>=2.5 in /usr/local/lib/python3.7/dist-packages (from requests<3.0.0,>=2.0.0->wikipedia) (2.10)\n"
          ]
        }
      ]
    },
    {
      "cell_type": "markdown",
      "source": [
        "Definimos una función de procesado similar a la anteriormente definida. En este caso eliminarmos los números (no los sustitumos por un caracter vacío). Además, eliminamos posibles espacios extras despues del proceso de tokenización"
      ],
      "metadata": {
        "id": "HhaSP7W9cC0m"
      }
    },
    {
      "cell_type": "code",
      "source": [
        "def spacy_tokenizer(sentence):\n",
        "    # Pasamos la frase por el objeto nlp para procesarla\n",
        "    mytokens = nlp(sentence)\n",
        "\n",
        "    mytokens = [ word.text.lower()   if word.pos_ == 'PRON' or word.lemma_ == '-PRON-' else word.lemma_.lower() for word in mytokens]\n",
        "  \n",
        "    # Quitamos las stopwords y los signos de puntuacion\n",
        "    mytokens = [ word for word in mytokens if word not in stop_words and word not in punctuations ]\n",
        "\n",
        "    # Quitamos números:\n",
        "    mytokens = [word  for word in mytokens if not word.isdigit()]\n",
        "    # Remove extra spaces\n",
        "    mytokens = [token.strip() for token in mytokens]\n",
        "    # devolver una lsita de tokens\n",
        "    return mytokens\n"
      ],
      "metadata": {
        "id": "FctYfGP7MA99"
      },
      "execution_count": 32,
      "outputs": []
    },
    {
      "cell_type": "markdown",
      "source": [
        "Vamos a descargar el texto de descripción de varios guitarristas históricos. Para ello definiremos una lista de strings con sus nombres y los obtendremos utilizando la función \"page\" de la librería wikipedia. \n"
      ],
      "metadata": {
        "id": "9MJ44YYJcKb7"
      }
    },
    {
      "cell_type": "code",
      "source": [
        "pages =  [\n",
        "  \"Brian May\",\"jimmy page\",\"eddie van halen\",\"david gilmour\",\n",
        "  \"Jeff Beck\",\"mark knopfler\",\"Billy Gibbons\",\"Carlos Santana\", \n",
        "  \"Stevie Ray Vaughan\",\"BB king\",\"Buddy Guy\",\"Albert King\",\"Rory Gallagher\",\n",
        "  \"Joe Satriani\", \"jimi hendrix\",\"George Harrison\"\n",
        "    ]\n",
        "documentes = [RE_WHITESPACE.sub(\" \",wikipedia.page(page, auto_suggest=False).content).strip() for page in pages]"
      ],
      "metadata": {
        "id": "Zv4V4SbkaLfu"
      },
      "execution_count": 33,
      "outputs": []
    },
    {
      "cell_type": "markdown",
      "source": [
        "Calculamos y entrenamos vectorizadores TFIDF y BoW (CountVectorizer) para el corpus descargado y preprocesado:"
      ],
      "metadata": {
        "id": "JIoXIw21cekC"
      }
    },
    {
      "cell_type": "code",
      "source": [
        "tfidf_vect = TfidfVectorizer(lowercase = False, stop_words = None, use_idf = True, smooth_idf = False,\n",
        "                             norm = \"l2\", tokenizer=spacy_tokenizer)\n",
        "count_vect = CountVectorizer(lowercase = False, stop_words = None, tokenizer=spacy_tokenizer)\n",
        "\n",
        "tfidf_data = tfidf_vect.fit(documentes)\n",
        "count_data = tfidf_vect.fit(documentes)"
      ],
      "metadata": {
        "colab": {
          "base_uri": "https://localhost:8080/"
        },
        "id": "kKH3O6NwMris",
        "outputId": "7c7757d1-ff05-4011-eea9-574aa1f60b6d"
      },
      "execution_count": 34,
      "outputs": [
        {
          "output_type": "stream",
          "name": "stderr",
          "text": [
            "/usr/local/lib/python3.7/dist-packages/sklearn/feature_extraction/text.py:517: UserWarning: The parameter 'token_pattern' will not be used since 'tokenizer' is not None'\n",
            "  \"The parameter 'token_pattern' will not be used\"\n"
          ]
        }
      ]
    },
    {
      "cell_type": "markdown",
      "source": [
        "Generamos funciones para obtener las palabras más importantes del vectorizador:\n"
      ],
      "metadata": {
        "id": "qSNTuC2GcxzL"
      }
    },
    {
      "cell_type": "code",
      "source": [
        "tfidf_feature_names = np.array(tfidf_data.get_feature_names())\n",
        "count_feature_names = np.array(count_data.get_feature_names())\n",
        "\n",
        "def get_top_vect_words(response, top_n=2,feature_name_array=tfidf_feature_names):\n",
        "  # De la respuesta del vectorizador, cogemos los datos en bruto del array, los ordenamos\n",
        "  # de mayor a menor y cogemos los índices de los top_n terminos. Que se seleccionarán del \n",
        "  # los nombres de las caracteristicas (tokens) del vectorizador.\n",
        "    sorted_nzs = np.argsort(response.data)[:-(top_n+1):-1]\n",
        "    return feature_name_array[response.indices[sorted_nzs]]\n",
        "  "
      ],
      "metadata": {
        "colab": {
          "base_uri": "https://localhost:8080/"
        },
        "id": "armdlrKJMWoG",
        "outputId": "d3b95df3-8b89-4699-9e46-63779c09e722"
      },
      "execution_count": 35,
      "outputs": [
        {
          "output_type": "stream",
          "name": "stderr",
          "text": [
            "/usr/local/lib/python3.7/dist-packages/sklearn/utils/deprecation.py:87: FutureWarning: Function get_feature_names is deprecated; get_feature_names is deprecated in 1.0 and will be removed in 1.2. Please use get_feature_names_out instead.\n",
            "  warnings.warn(msg, category=FutureWarning)\n"
          ]
        }
      ]
    },
    {
      "cell_type": "markdown",
      "source": [
        "Generamos está función para mostrar los 10 términos más importantes de un documento vectorizado con TF-IDF y BoW para ver sus diferencias. "
      ],
      "metadata": {
        "id": "FaBwKqfpdTBW"
      }
    },
    {
      "cell_type": "code",
      "source": [
        "def show_doc_results(doc,top_n):\n",
        "  # Transformamos documento\n",
        "  responses_tfidf = tfidf_vect.transform([doc])\n",
        "  responses_count = count_vect.transform([doc])\n",
        "  # Cogemos palabras más prefuentes (mas importrantes) y más inmportantes en tfidf\n",
        "  most_frequent = list(get_top_vect_words(responses_count,top_n,count_feature_names))\n",
        "  tfidf = list(get_top_vect_words(responses_tfidf,top_n,tfidf_feature_names))\n",
        "  print(\"Tokens más frecuentes: {}\".format(most_frequent))\n",
        "  print(\"Tokens con mayor TF-IDF: {}\".format(tfidf))"
      ],
      "metadata": {
        "id": "X1fO7JoYc7-e"
      },
      "execution_count": 36,
      "outputs": []
    },
    {
      "cell_type": "code",
      "source": [
        "for i in range(0, len(pages)):\n",
        "  print(pages[i])\n",
        "  show_doc_results(documentes[i],10)"
      ],
      "metadata": {
        "colab": {
          "base_uri": "https://localhost:8080/",
          "height": 380
        },
        "id": "Tf7C8FC6gH-N",
        "outputId": "0adcbfa4-6210-40a6-fc8f-aeda632530d8"
      },
      "execution_count": 38,
      "outputs": [
        {
          "output_type": "stream",
          "name": "stdout",
          "text": [
            "Brian May\n"
          ]
        },
        {
          "output_type": "error",
          "ename": "NotFittedError",
          "evalue": "ignored",
          "traceback": [
            "\u001b[0;31m---------------------------------------------------------------------------\u001b[0m",
            "\u001b[0;31mNotFittedError\u001b[0m                            Traceback (most recent call last)",
            "\u001b[0;32m<ipython-input-38-39a2fc9ae573>\u001b[0m in \u001b[0;36m<module>\u001b[0;34m()\u001b[0m\n\u001b[1;32m      1\u001b[0m \u001b[0;32mfor\u001b[0m \u001b[0mi\u001b[0m \u001b[0;32min\u001b[0m \u001b[0mrange\u001b[0m\u001b[0;34m(\u001b[0m\u001b[0;36m0\u001b[0m\u001b[0;34m,\u001b[0m \u001b[0mlen\u001b[0m\u001b[0;34m(\u001b[0m\u001b[0mpages\u001b[0m\u001b[0;34m)\u001b[0m\u001b[0;34m)\u001b[0m\u001b[0;34m:\u001b[0m\u001b[0;34m\u001b[0m\u001b[0;34m\u001b[0m\u001b[0m\n\u001b[1;32m      2\u001b[0m   \u001b[0mprint\u001b[0m\u001b[0;34m(\u001b[0m\u001b[0mpages\u001b[0m\u001b[0;34m[\u001b[0m\u001b[0mi\u001b[0m\u001b[0;34m]\u001b[0m\u001b[0;34m)\u001b[0m\u001b[0;34m\u001b[0m\u001b[0;34m\u001b[0m\u001b[0m\n\u001b[0;32m----> 3\u001b[0;31m   \u001b[0mshow_doc_results\u001b[0m\u001b[0;34m(\u001b[0m\u001b[0mdocumentes\u001b[0m\u001b[0;34m[\u001b[0m\u001b[0mi\u001b[0m\u001b[0;34m]\u001b[0m\u001b[0;34m,\u001b[0m\u001b[0;36m10\u001b[0m\u001b[0;34m)\u001b[0m\u001b[0;34m\u001b[0m\u001b[0;34m\u001b[0m\u001b[0m\n\u001b[0m",
            "\u001b[0;32m<ipython-input-36-d5b238ac0610>\u001b[0m in \u001b[0;36mshow_doc_results\u001b[0;34m(doc, top_n)\u001b[0m\n\u001b[1;32m      2\u001b[0m   \u001b[0;31m# Transformamos documento\u001b[0m\u001b[0;34m\u001b[0m\u001b[0;34m\u001b[0m\u001b[0;34m\u001b[0m\u001b[0m\n\u001b[1;32m      3\u001b[0m   \u001b[0mresponses_tfidf\u001b[0m \u001b[0;34m=\u001b[0m \u001b[0mtfidf_vect\u001b[0m\u001b[0;34m.\u001b[0m\u001b[0mtransform\u001b[0m\u001b[0;34m(\u001b[0m\u001b[0;34m[\u001b[0m\u001b[0mdoc\u001b[0m\u001b[0;34m]\u001b[0m\u001b[0;34m)\u001b[0m\u001b[0;34m\u001b[0m\u001b[0;34m\u001b[0m\u001b[0m\n\u001b[0;32m----> 4\u001b[0;31m   \u001b[0mresponses_count\u001b[0m \u001b[0;34m=\u001b[0m \u001b[0mcount_vect\u001b[0m\u001b[0;34m.\u001b[0m\u001b[0mtransform\u001b[0m\u001b[0;34m(\u001b[0m\u001b[0;34m[\u001b[0m\u001b[0mdoc\u001b[0m\u001b[0;34m]\u001b[0m\u001b[0;34m)\u001b[0m\u001b[0;34m\u001b[0m\u001b[0;34m\u001b[0m\u001b[0m\n\u001b[0m\u001b[1;32m      5\u001b[0m   \u001b[0;31m# Cogemos palabras más prefuentes (mas importrantes) y más inmportantes en tfidf\u001b[0m\u001b[0;34m\u001b[0m\u001b[0;34m\u001b[0m\u001b[0;34m\u001b[0m\u001b[0m\n\u001b[1;32m      6\u001b[0m   \u001b[0mmost_frequent\u001b[0m \u001b[0;34m=\u001b[0m \u001b[0mlist\u001b[0m\u001b[0;34m(\u001b[0m\u001b[0mget_top_vect_words\u001b[0m\u001b[0;34m(\u001b[0m\u001b[0mresponses_count\u001b[0m\u001b[0;34m,\u001b[0m\u001b[0mtop_n\u001b[0m\u001b[0;34m,\u001b[0m\u001b[0mcount_feature_names\u001b[0m\u001b[0;34m)\u001b[0m\u001b[0;34m)\u001b[0m\u001b[0;34m\u001b[0m\u001b[0;34m\u001b[0m\u001b[0m\n",
            "\u001b[0;32m/usr/local/lib/python3.7/dist-packages/sklearn/feature_extraction/text.py\u001b[0m in \u001b[0;36mtransform\u001b[0;34m(self, raw_documents)\u001b[0m\n\u001b[1;32m   1374\u001b[0m                 \u001b[0;34m\"Iterable over raw text documents expected, string object received.\"\u001b[0m\u001b[0;34m\u001b[0m\u001b[0;34m\u001b[0m\u001b[0m\n\u001b[1;32m   1375\u001b[0m             )\n\u001b[0;32m-> 1376\u001b[0;31m         \u001b[0mself\u001b[0m\u001b[0;34m.\u001b[0m\u001b[0m_check_vocabulary\u001b[0m\u001b[0;34m(\u001b[0m\u001b[0;34m)\u001b[0m\u001b[0;34m\u001b[0m\u001b[0;34m\u001b[0m\u001b[0m\n\u001b[0m\u001b[1;32m   1377\u001b[0m \u001b[0;34m\u001b[0m\u001b[0m\n\u001b[1;32m   1378\u001b[0m         \u001b[0;31m# use the same matrix-building strategy as fit_transform\u001b[0m\u001b[0;34m\u001b[0m\u001b[0;34m\u001b[0m\u001b[0;34m\u001b[0m\u001b[0m\n",
            "\u001b[0;32m/usr/local/lib/python3.7/dist-packages/sklearn/feature_extraction/text.py\u001b[0m in \u001b[0;36m_check_vocabulary\u001b[0;34m(self)\u001b[0m\n\u001b[1;32m    496\u001b[0m             \u001b[0mself\u001b[0m\u001b[0;34m.\u001b[0m\u001b[0m_validate_vocabulary\u001b[0m\u001b[0;34m(\u001b[0m\u001b[0;34m)\u001b[0m\u001b[0;34m\u001b[0m\u001b[0;34m\u001b[0m\u001b[0m\n\u001b[1;32m    497\u001b[0m             \u001b[0;32mif\u001b[0m \u001b[0;32mnot\u001b[0m \u001b[0mself\u001b[0m\u001b[0;34m.\u001b[0m\u001b[0mfixed_vocabulary_\u001b[0m\u001b[0;34m:\u001b[0m\u001b[0;34m\u001b[0m\u001b[0;34m\u001b[0m\u001b[0m\n\u001b[0;32m--> 498\u001b[0;31m                 \u001b[0;32mraise\u001b[0m \u001b[0mNotFittedError\u001b[0m\u001b[0;34m(\u001b[0m\u001b[0;34m\"Vocabulary not fitted or provided\"\u001b[0m\u001b[0;34m)\u001b[0m\u001b[0;34m\u001b[0m\u001b[0;34m\u001b[0m\u001b[0m\n\u001b[0m\u001b[1;32m    499\u001b[0m \u001b[0;34m\u001b[0m\u001b[0m\n\u001b[1;32m    500\u001b[0m         \u001b[0;32mif\u001b[0m \u001b[0mlen\u001b[0m\u001b[0;34m(\u001b[0m\u001b[0mself\u001b[0m\u001b[0;34m.\u001b[0m\u001b[0mvocabulary_\u001b[0m\u001b[0;34m)\u001b[0m \u001b[0;34m==\u001b[0m \u001b[0;36m0\u001b[0m\u001b[0;34m:\u001b[0m\u001b[0;34m\u001b[0m\u001b[0;34m\u001b[0m\u001b[0m\n",
            "\u001b[0;31mNotFittedError\u001b[0m: Vocabulary not fitted or provided"
          ]
        }
      ]
    },
    {
      "cell_type": "markdown",
      "source": [
        "Observar diferencias de palabras muy comunes en documentos de guitarristas como \"guitar\", \"release\",\"play\" o \"album\". En BoW aparecen como términos muy importantes porque son comunes en este tipo de documentos. Sin embargo, al calcular el TF-IDF, como estos términos aparecen en muchos documentos su importancia se ve disminuida.\n"
      ],
      "metadata": {
        "id": "v_1diBNEdfn5"
      }
    },
    {
      "cell_type": "markdown",
      "source": [
        "# Representación numérica de palabras\n"
      ],
      "metadata": {
        "id": "pm78IkxdeERw"
      }
    },
    {
      "cell_type": "markdown",
      "source": [
        "También se puede hacer una representación de un documento obteniendo una representación de los vectores de las palabras que lo componen, y haciendo algún tipo de combinación sobre éstas (suma, concatenación..).\n",
        "\n",
        "En este caso presentaremos el One Hot Encoding y los word embeddings."
      ],
      "metadata": {
        "id": "KfioSUWmeJdc"
      }
    },
    {
      "cell_type": "markdown",
      "source": [
        "## One-hot encoder\n"
      ],
      "metadata": {
        "id": "gQSLUU8TeJsv"
      }
    },
    {
      "cell_type": "markdown",
      "source": [
        "Probablemente sea la técnica más elemental para representar datos textuales numéricamente. En este modelo de representación cada palabra del vocabulario se representa mediante un vector único en el que cada posición del vector representa una palabra del vocabulario, siendo 0 todos los valores menos el índice del token al que representa el vector. \n",
        "\n",
        "En este caso, trabajaremos con el método [OneHotEncoder](https://scikit-learn.org/stable/modules/generated/sklearn.preprocessing.OneHotEncoder.html) de Scikit-learn."
      ],
      "metadata": {
        "id": "p4Z-XZ6cWGrW"
      }
    },
    {
      "cell_type": "markdown",
      "source": [
        "En primer lugar, es necesario obtener un índice único para cada una de las palabras de nuestro vocabulario. \n",
        "\n",
        "Podemos hacerlo de forma manual o utilizando un LabelEncoder de scikit-learn:"
      ],
      "metadata": {
        "id": "TaaclO3FWWXK"
      }
    },
    {
      "cell_type": "code",
      "source": [
        "from sklearn.preprocessing import OneHotEncoder, LabelEncoder\n",
        "\n",
        "# integer encode\n",
        "label_encoder = LabelEncoder()# usar LabelEncoder vacío\n",
        "integer_encoded = label_encoder.fit_transform(vocab) # fit_transform sobre vocab\n",
        "\n",
        "for elem, index in zip(vocab, integer_encoded): \n",
        "  print(\"Al token `{}` del vocabulario se le ha asignado el índice {}\".format(elem,  index))\n"
      ],
      "metadata": {
        "id": "MGOrp1T1WiQa",
        "outputId": "85d0bb04-d5ac-4578-9271-e9ceca298f57",
        "colab": {
          "base_uri": "https://localhost:8080/"
        }
      },
      "execution_count": 39,
      "outputs": [
        {
          "output_type": "stream",
          "name": "stdout",
          "text": [
            "Al token `agua` del vocabulario se le ha asignado el índice 0\n",
            "Al token `cocacola` del vocabulario se le ha asignado el índice 1\n",
            "Al token `entrecot` del vocabulario se le ha asignado el índice 2\n",
            "Al token `no` del vocabulario se le ha asignado el índice 3\n",
            "Al token `quiero` del vocabulario se le ha asignado el índice 4\n",
            "Al token `un` del vocabulario se le ha asignado el índice 5\n",
            "Al token `vino` del vocabulario se le ha asignado el índice 6\n",
            "Al token `y` del vocabulario se le ha asignado el índice 7\n",
            "Al token `yo` del vocabulario se le ha asignado el índice 8\n"
          ]
        }
      ]
    },
    {
      "cell_type": "markdown",
      "source": [
        "Una vez asignados estos índices, los utilizaremos para crear un vector único de tamaño del vocabulario. \n",
        "\n",
        "Para ello, utilizarmeos el método OneHotEncoder:"
      ],
      "metadata": {
        "id": "D2e2zDGcWhyV"
      }
    },
    {
      "cell_type": "code",
      "source": [
        "onehot_encoder = OneHotEncoder(sparse=False) # usra OneHotEncoder con atributo sparse=False"
      ],
      "metadata": {
        "id": "kvJhbn1_eMa8"
      },
      "execution_count": 41,
      "outputs": []
    },
    {
      "cell_type": "markdown",
      "source": [
        "Cambiamos las dimensiones del vector de índices, y los transformamos utilizando el onehot_encoder:"
      ],
      "metadata": {
        "id": "R5VSSbroXKy2"
      }
    },
    {
      "cell_type": "code",
      "source": [
        "integer_encoded = integer_encoded.reshape(len(integer_encoded), 1) \n",
        "onehot_encoded = onehot_encoder.fit_transform(integer_encoded)\n",
        "\n",
        "for elem, index in zip(vocab, onehot_encoded): \n",
        "  print(\"Al token `{}` del vocabulario se le ha asignado el onehot vector: {}\".format(elem,  index))"
      ],
      "metadata": {
        "id": "SOWjnt40XKVr",
        "outputId": "5e9b95dc-3341-46d8-81b8-4bd3b50f48ff",
        "colab": {
          "base_uri": "https://localhost:8080/"
        }
      },
      "execution_count": 42,
      "outputs": [
        {
          "output_type": "stream",
          "name": "stdout",
          "text": [
            "Al token `agua` del vocabulario se le ha asignado el onehot vector: [1. 0. 0. 0. 0. 0. 0. 0. 0.]\n",
            "Al token `cocacola` del vocabulario se le ha asignado el onehot vector: [0. 1. 0. 0. 0. 0. 0. 0. 0.]\n",
            "Al token `entrecot` del vocabulario se le ha asignado el onehot vector: [0. 0. 1. 0. 0. 0. 0. 0. 0.]\n",
            "Al token `no` del vocabulario se le ha asignado el onehot vector: [0. 0. 0. 1. 0. 0. 0. 0. 0.]\n",
            "Al token `quiero` del vocabulario se le ha asignado el onehot vector: [0. 0. 0. 0. 1. 0. 0. 0. 0.]\n",
            "Al token `un` del vocabulario se le ha asignado el onehot vector: [0. 0. 0. 0. 0. 1. 0. 0. 0.]\n",
            "Al token `vino` del vocabulario se le ha asignado el onehot vector: [0. 0. 0. 0. 0. 0. 1. 0. 0.]\n",
            "Al token `y` del vocabulario se le ha asignado el onehot vector: [0. 0. 0. 0. 0. 0. 0. 1. 0.]\n",
            "Al token `yo` del vocabulario se le ha asignado el onehot vector: [0. 0. 0. 0. 0. 0. 0. 0. 1.]\n"
          ]
        }
      ]
    },
    {
      "cell_type": "markdown",
      "source": [
        "Después de definir esto podemos generar funciones para transformar un conjunto de tokens a su versión one-hot. Así como el paso inverso. "
      ],
      "metadata": {
        "id": "W1W9FoXlWVlO"
      }
    },
    {
      "cell_type": "code",
      "source": [
        "def using_to_categorical(doc,label_encoder, onehot_encoder):\n",
        "    # Transformamos los tokens a índices\n",
        "    data = label_encoder.transform(doc)\n",
        "    # Adaptamos los indices al formato adecuado\n",
        "    data = data.reshape(len(data), 1)\n",
        "    # Les aplicamos one hot encoder\n",
        "    encoded = onehot_encoder.transform(data)\n",
        "    return encoded\n",
        "\n",
        "\n",
        "def invert_encoding(vectores_onehot,label_encoder):\n",
        "    inverted = label_encoder.inverse_transform(list(np.argmax(vectores_onehot,axis=1)))\n",
        "    return list(inverted)"
      ],
      "metadata": {
        "id": "k2o1USGafU8G"
      },
      "execution_count": 43,
      "outputs": []
    },
    {
      "cell_type": "markdown",
      "source": [
        "Utilicemos las funciones:"
      ],
      "metadata": {
        "id": "m9j0ejmYYSfv"
      }
    },
    {
      "cell_type": "code",
      "source": [
        "documento_ejemplo = \"yo quiero agua\".split()\n",
        "documento_ejemplo"
      ],
      "metadata": {
        "colab": {
          "base_uri": "https://localhost:8080/"
        },
        "id": "pZ4zrqhnf6sp",
        "outputId": "75f36430-acbb-44d0-9d27-f8c758396a45"
      },
      "execution_count": 44,
      "outputs": [
        {
          "output_type": "execute_result",
          "data": {
            "text/plain": [
              "['yo', 'quiero', 'agua']"
            ]
          },
          "metadata": {},
          "execution_count": 44
        }
      ]
    },
    {
      "cell_type": "code",
      "source": [
        "a_hot_enc=using_to_categorical(documento_ejemplo,label_encoder, onehot_encoder)\n",
        "a_hot_enc"
      ],
      "metadata": {
        "colab": {
          "base_uri": "https://localhost:8080/"
        },
        "id": "qpLBdvRrgicy",
        "outputId": "7d307901-2384-498b-ea94-a1391676f5f0"
      },
      "execution_count": 45,
      "outputs": [
        {
          "output_type": "execute_result",
          "data": {
            "text/plain": [
              "array([[0., 0., 0., 0., 0., 0., 0., 0., 1.],\n",
              "       [0., 0., 0., 0., 1., 0., 0., 0., 0.],\n",
              "       [1., 0., 0., 0., 0., 0., 0., 0., 0.]])"
            ]
          },
          "metadata": {},
          "execution_count": 45
        }
      ]
    },
    {
      "cell_type": "code",
      "source": [
        "invert_encoding(a_hot_enc,label_encoder)"
      ],
      "metadata": {
        "colab": {
          "base_uri": "https://localhost:8080/"
        },
        "id": "JGIcOXUNg5t4",
        "outputId": "9358ce52-96f2-4e09-9b6c-61c80d986364"
      },
      "execution_count": 46,
      "outputs": [
        {
          "output_type": "execute_result",
          "data": {
            "text/plain": [
              "['yo', 'quiero', 'agua']"
            ]
          },
          "metadata": {},
          "execution_count": 46
        }
      ]
    },
    {
      "cell_type": "markdown",
      "source": [
        "## Embeddings"
      ],
      "metadata": {
        "id": "DKkDHxmgeMl3"
      }
    },
    {
      "cell_type": "markdown",
      "source": [
        "Los embeddings son una técnica de modelización de lenguaje que permite representar palabras mediante vectores densos (*dense vectors*), de menor tamaño que los obtenidos tras _one-hot enconding_, y que además tienen capacidad de representar ontenido semántico. \n",
        "\n",
        "A lo largo del tiempo han aparecido diferentes formas de obtener estos embeddings. Pero en este curso aprendermeos a utilizar y a entrenar embeddings estáticos, especificamente word2vec, utilizando la librería [gensim](https://radimrehurek.com/gensim/models/word2vec.html). Hay que mencionar que los actuales embeddings contextuales, como Elmo o BERT, serán utilizados en el futuro para poder mostrar su uso, que en esencia es similar al del embedding estático. \n",
        "\n",
        "![image.png](data:image/png;base64,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)"
      ],
      "metadata": {
        "id": "m0wlIoDMlJBq"
      }
    },
    {
      "cell_type": "markdown",
      "source": [
        "### Carga de embeddings pre-entrenados con ``gensim``\n",
        "\n",
        "\n",
        "\n",
        "\n"
      ],
      "metadata": {
        "id": "hbvlDgVKl-CU"
      }
    },
    {
      "cell_type": "markdown",
      "source": [
        "Los embeddings suelen ser entrenados con grandes conjuntos de datos y suele ser costoso su entrenamiento a nivel temporal. Por ese motivo, una de las posibilidades cuando se trabaja con embeddings, es la búsqueda de recursos ya entrenados con textos similares a los que vayamos a trabajar (como contenido de noticias o redes sociales), y utilizarlo para representar nuestros documentos. \n",
        "\n",
        "\n",
        "Cuando se busca este tipo de recurso es evidente la influencia anglosajona en el desarrollo de las tecnologías del lenguaje, ya que la mayoría de los recursos se encuentran en este idioma y son fácilmente aplicables desde las librerías de NLP más comunes, en este caso Gensim. Si se quieren utilizar recursos en otros idiomas, hay que buscarlos en repositorios externos para descargarlos manualmente y cargarlos en la librería en cuestión. \n",
        "\n",
        "Aunque en este notebook trabajaremos exclusivamente con Gensim, este problema de acceso a recursos se está viendo parcialmente solventado con el incremento de popularidad de librerías como [Hugginface](https://huggingface.co/models) que favorecen el intercambio de recursos en múltiples lenguas\n"
      ],
      "metadata": {
        "id": "Fl-_vJxxnX8a"
      }
    },
    {
      "cell_type": "markdown",
      "source": [
        "#### Carga de pre-trained embeddings de gensim\n"
      ],
      "metadata": {
        "id": "UxPhAyf2mWwj"
      }
    },
    {
      "cell_type": "markdown",
      "source": [
        "La librería Gensim cuenta con un conjunto de embeddings pre-entrenados accesibles desde la propia librería mediante una API.\n",
        "\n",
        "Para acceder a estos modelos basta con utilizar el comando ```gensim.downloader.info()```, que nos permitirá ver la lista de modelos disponibles:"
      ],
      "metadata": {
        "id": "8U93nlbzp8i4"
      }
    },
    {
      "cell_type": "code",
      "source": [
        "import gensim.downloader as api\n",
        "print(\"Este es el listado de modelos disponibles en Gensim: \\n {}\".format(list(api.info()[\"models\"].keys())))\n"
      ],
      "metadata": {
        "colab": {
          "base_uri": "https://localhost:8080/"
        },
        "id": "wPkq7KxbqT61",
        "outputId": "b27264a4-6d2b-4e51-faf7-5cce001cd521"
      },
      "execution_count": 47,
      "outputs": [
        {
          "output_type": "stream",
          "name": "stdout",
          "text": [
            "Este es el listado de modelos disponibles en Gensim: \n",
            " ['fasttext-wiki-news-subwords-300', 'conceptnet-numberbatch-17-06-300', 'word2vec-ruscorpora-300', 'word2vec-google-news-300', 'glove-wiki-gigaword-50', 'glove-wiki-gigaword-100', 'glove-wiki-gigaword-200', 'glove-wiki-gigaword-300', 'glove-twitter-25', 'glove-twitter-50', 'glove-twitter-100', 'glove-twitter-200', '__testing_word2vec-matrix-synopsis']\n"
          ]
        }
      ]
    },
    {
      "cell_type": "markdown",
      "source": [
        "Se puede observar que no sólo hay embeddings word2vec. También los hay glove, fasttext y conceptnet, todos estáticos. En este caso vamos a cargar un embedding Glove por ocupar menos espacio en memoria. "
      ],
      "metadata": {
        "id": "JVawh6YYrnoE"
      }
    },
    {
      "cell_type": "code",
      "source": [
        "glove_emb = api.load(\"glove-twitter-25\") # Descargamos y cargamosel embedding de \"glove-twitter-25\""
      ],
      "metadata": {
        "colab": {
          "base_uri": "https://localhost:8080/"
        },
        "id": "wAMFYJzfr35N",
        "outputId": "1836742e-5a77-4389-b444-4d2710db1f91"
      },
      "execution_count": 48,
      "outputs": [
        {
          "output_type": "stream",
          "name": "stdout",
          "text": [
            "[==================================================] 100.0% 104.8/104.8MB downloaded\n"
          ]
        }
      ]
    },
    {
      "cell_type": "markdown",
      "source": [
        "Una vez hayamos cargado el embedding, podemos aplicar diferentes funciones de gensim para obtener información útil:\n",
        "\n",
        "- Listado de palabras más similares a una dada\n"
      ],
      "metadata": {
        "id": "_fgzxNYDr-eK"
      }
    },
    {
      "cell_type": "code",
      "source": [
        "glove_emb.most_similar(\"noise\", topn=3)  # apalabras más similares se hace con most_similar y marcando topn a 3"
      ],
      "metadata": {
        "colab": {
          "base_uri": "https://localhost:8080/"
        },
        "id": "-wlexjYbsOVc",
        "outputId": "631a8d67-f4a2-4158-8f8d-c58c75fee045"
      },
      "execution_count": 49,
      "outputs": [
        {
          "output_type": "execute_result",
          "data": {
            "text/plain": [
              "[('panic', 0.8954888582229614),\n",
              " ('loud', 0.8835636377334595),\n",
              " ('sudden', 0.8579897880554199)]"
            ]
          },
          "metadata": {},
          "execution_count": 49
        }
      ]
    },
    {
      "cell_type": "markdown",
      "source": [
        "-  Operación matemática con vectores para obtener resultados"
      ],
      "metadata": {
        "id": "9N6omDRTsl8y"
      }
    },
    {
      "cell_type": "code",
      "source": [
        "glove_emb.most_similar(positive=[\"france\",\"italy\"],negative=[\"rome\"])"
      ],
      "metadata": {
        "colab": {
          "base_uri": "https://localhost:8080/"
        },
        "id": "gw0W_VdbtA4e",
        "outputId": "e83bf9ba-fd1c-4b7c-a81f-4da6c1d9a227"
      },
      "execution_count": 50,
      "outputs": [
        {
          "output_type": "execute_result",
          "data": {
            "text/plain": [
              "[('paris', 0.7654449939727783),\n",
              " ('vote', 0.7570202946662903),\n",
              " ('gagne', 0.7432006001472473),\n",
              " ('psg', 0.7362562417984009),\n",
              " ('spain', 0.729026734828949),\n",
              " ('team', 0.7250774502754211),\n",
              " ('attend', 0.7223680019378662),\n",
              " ('europe', 0.720014214515686),\n",
              " ('canada', 0.7170059680938721),\n",
              " ('match', 0.7135623097419739)]"
            ]
          },
          "metadata": {},
          "execution_count": 50
        }
      ]
    },
    {
      "cell_type": "markdown",
      "source": [
        "-  Detectar término \"intruso\""
      ],
      "metadata": {
        "id": "QtzlCNDqtujt"
      }
    },
    {
      "cell_type": "code",
      "source": [
        "glove_emb.doesnt_match(['spain', 'italy', 'paris'])"
      ],
      "metadata": {
        "colab": {
          "base_uri": "https://localhost:8080/",
          "height": 93
        },
        "id": "K9nW_i_Htusj",
        "outputId": "134d068a-a9a5-412f-f901-9fe5b1a498ad"
      },
      "execution_count": 51,
      "outputs": [
        {
          "output_type": "stream",
          "name": "stderr",
          "text": [
            "/usr/local/lib/python3.7/dist-packages/gensim/models/keyedvectors.py:895: FutureWarning: arrays to stack must be passed as a \"sequence\" type such as list or tuple. Support for non-sequence iterables such as generators is deprecated as of NumPy 1.16 and will raise an error in the future.\n",
            "  vectors = vstack(self.word_vec(word, use_norm=True) for word in used_words).astype(REAL)\n"
          ]
        },
        {
          "output_type": "execute_result",
          "data": {
            "text/plain": [
              "'paris'"
            ],
            "application/vnd.google.colaboratory.intrinsic+json": {
              "type": "string"
            }
          },
          "metadata": {},
          "execution_count": 51
        }
      ]
    },
    {
      "cell_type": "markdown",
      "source": [
        "-  Obtener el vector que representa a una palabra para utilizarlo posteriormente en otras tareas"
      ],
      "metadata": {
        "id": "MVfsDlxUt25B"
      }
    },
    {
      "cell_type": "code",
      "source": [
        "glove_emb.get_vector(\"madrid\") # get_vector(token)"
      ],
      "metadata": {
        "colab": {
          "base_uri": "https://localhost:8080/"
        },
        "id": "eDWqs0k9sFPl",
        "outputId": "f59855e7-4cdb-4872-b9e4-dd03d104c0b4"
      },
      "execution_count": 52,
      "outputs": [
        {
          "output_type": "execute_result",
          "data": {
            "text/plain": [
              "array([ 0.31968 ,  0.74266 , -0.20431 , -1.4012  , -0.86315 ,  0.79216 ,\n",
              "       -1.0295  ,  2.638   , -0.39319 , -0.47535 ,  1.2023  , -0.95062 ,\n",
              "       -2.4912  ,  1.3536  ,  1.4055  , -0.38844 , -0.95007 , -0.43883 ,\n",
              "        0.05267 , -0.083568, -0.92105 ,  0.18917 , -0.20303 , -1.0173  ,\n",
              "        0.20116 ], dtype=float32)"
            ]
          },
          "metadata": {},
          "execution_count": 52
        }
      ]
    },
    {
      "cell_type": "markdown",
      "source": [
        "#### Carga de pre-trained embedding de otras fuentes\n"
      ],
      "metadata": {
        "id": "eaOWtFAvmUYg"
      }
    },
    {
      "cell_type": "markdown",
      "source": [
        "Como hemos visto anteriormente, no siempre se encuentran embeddings en el idioma en el que estamos trabajando. Aunque hoy en día existen mejores opciones para representar palabras en diferentes idiomas  que el uso de Word2Vec (como el [Universal Sentence Encoder](https://tfhub.dev/google/universal-sentence-encoder/1)]), en este apartado vamos a cargar un [Word2Vec embedding en español](https://github.com/aitoralmeida/spanish_word2vec)l creado con datos de noticias, Wilipedia y el BOE entre otros y no disponible de forma nativa en la librería de Gensim.\n"
      ],
      "metadata": {
        "id": "rd-oldTUoZQk"
      }
    },
    {
      "cell_type": "markdown",
      "source": [
        "En primer lugar descargamos y hacemos unzip del modelo:"
      ],
      "metadata": {
        "id": "W9eU9vuVoZUf"
      }
    },
    {
      "cell_type": "code",
      "source": [
        "!wget https://zenodo.org/record/1410403/files/keyed_vectors.zip?download=1\n",
        "!unzip /content/keyed_vectors.zip?download=1"
      ],
      "metadata": {
        "colab": {
          "base_uri": "https://localhost:8080/"
        },
        "id": "iKLmbomPmTlA",
        "outputId": "a1c9eaf4-130f-4cda-dd92-1c79393558db"
      },
      "execution_count": 53,
      "outputs": [
        {
          "output_type": "stream",
          "name": "stdout",
          "text": [
            "--2022-07-15 12:04:20--  https://zenodo.org/record/1410403/files/keyed_vectors.zip?download=1\n",
            "Resolving zenodo.org (zenodo.org)... 137.138.76.77\n",
            "Connecting to zenodo.org (zenodo.org)|137.138.76.77|:443... connected.\n",
            "HTTP request sent, awaiting response... 200 OK\n",
            "Length: 2933030481 (2.7G) [application/octet-stream]\n",
            "Saving to: ‘keyed_vectors.zip?download=1’\n",
            "\n",
            "keyed_vectors.zip?d 100%[===================>]   2.73G  17.0MB/s    in 3m 17s  \n",
            "\n",
            "2022-07-15 12:07:38 (14.2 MB/s) - ‘keyed_vectors.zip?download=1’ saved [2933030481/2933030481]\n",
            "\n",
            "Archive:  /content/keyed_vectors.zip?download=1\n",
            "  inflating: complete.kv             \n",
            "  inflating: complete.kv.vectors.npy  \n"
          ]
        }
      ]
    },
    {
      "cell_type": "markdown",
      "source": [
        "Una vez descargado y descomprimido, cargamos los ``KeyedVectors``, una manera de almacenar un embedding como un diccionario que permite ahorrar espacio de almacenamiento y memoria.\n"
      ],
      "metadata": {
        "id": "acKSCMVdpXFw"
      }
    },
    {
      "cell_type": "code",
      "source": [
        "from gensim.models import KeyedVectors\n",
        "word_vectors = KeyedVectors.load('complete.kv', mmap='r')\n"
      ],
      "metadata": {
        "id": "D9JYzEgXpflg"
      },
      "execution_count": 54,
      "outputs": []
    },
    {
      "cell_type": "markdown",
      "source": [
        "Una vez cargado, podemos aplicar las funciones del embedding disponibles en Gensim, además de obtener la representación vectorial de cada palabra."
      ],
      "metadata": {
        "id": "VurIInUuqtfw"
      }
    },
    {
      "cell_type": "code",
      "source": [
        "word_vectors.most_similar(positive=[\"mujer\",\"rey\"],negative=[\"hombre\"])"
      ],
      "metadata": {
        "colab": {
          "base_uri": "https://localhost:8080/"
        },
        "id": "21kuM_Qvq09L",
        "outputId": "264b2409-fc64-4fbe-b831-6ad47cf599c0"
      },
      "execution_count": 55,
      "outputs": [
        {
          "output_type": "execute_result",
          "data": {
            "text/plain": [
              "[('reina', 0.7011107802391052),\n",
              " ('princesa', 0.6539173126220703),\n",
              " ('emperatriz', 0.6132392883300781),\n",
              " ('esposa', 0.5980263948440552),\n",
              " ('doncella', 0.596245527267456),\n",
              " ('dama', 0.5885013341903687),\n",
              " ('infanta', 0.5754831433296204),\n",
              " ('concubina', 0.5528373122215271),\n",
              " ('hija', 0.5507358312606812),\n",
              " ('viuda', 0.538551390171051)]"
            ]
          },
          "metadata": {},
          "execution_count": 55
        }
      ]
    },
    {
      "cell_type": "code",
      "source": [
        "word_vectors.similar_by_word(\"virus\")"
      ],
      "metadata": {
        "colab": {
          "base_uri": "https://localhost:8080/"
        },
        "id": "yKCglNDLrELb",
        "outputId": "5fbd4f5a-becb-496c-c866-c1433783e7ad"
      },
      "execution_count": 56,
      "outputs": [
        {
          "output_type": "execute_result",
          "data": {
            "text/plain": [
              "[('retrovirus', 0.759166955947876),\n",
              " ('bacilo', 0.6934126615524292),\n",
              " ('patógeno', 0.6908407211303711),\n",
              " ('Ébola', 0.6901521682739258),\n",
              " ('microorganismo', 0.6858637928962708),\n",
              " ('microbio', 0.68221116065979),\n",
              " ('ántrax', 0.6744674444198608),\n",
              " ('filovirus', 0.6674036979675293),\n",
              " ('parásito', 0.6608957052230835),\n",
              " ('carbunco', 0.6542395949363708)]"
            ]
          },
          "metadata": {},
          "execution_count": 56
        }
      ]
    },
    {
      "cell_type": "code",
      "source": [
        "word_vectors.get_vector(\"hola\")"
      ],
      "metadata": {
        "id": "Jvpt2dHurLoi",
        "outputId": "55fa757a-b097-44d8-a13b-cf75b0d931e3",
        "colab": {
          "base_uri": "https://localhost:8080/"
        }
      },
      "execution_count": 57,
      "outputs": [
        {
          "output_type": "execute_result",
          "data": {
            "text/plain": [
              "memmap([ 2.2514553e+00,  1.6890596e-01, -9.7272795e-01, -5.2612531e-01,\n",
              "        -1.3221606e+00,  7.2344530e-01,  2.8291705e-01,  1.3940958e+00,\n",
              "        -5.4033071e-01,  1.3561870e-01, -8.1375128e-01,  2.7073002e+00,\n",
              "        -4.0677980e-01,  3.2922485e+00, -5.3857517e-01,  9.0996349e-01,\n",
              "         2.3232083e+00, -1.1625075e-01, -1.1313896e+00, -1.7483376e+00,\n",
              "         1.9692682e+00,  2.3512919e+00,  1.7895687e+00,  6.5200277e-02,\n",
              "         7.6324141e-01, -7.3856932e-01, -1.8932123e-01,  6.1876625e-03,\n",
              "         1.0097772e+00,  6.4056331e-01, -4.5685723e-01, -1.8693479e+00,\n",
              "         6.0372066e-01,  1.9451879e+00,  1.4711530e+00,  4.1427597e-02,\n",
              "        -4.8331168e-01, -4.7956902e-01, -9.8414880e-01,  7.7476156e-01,\n",
              "        -1.0335855e+00,  1.1704956e+00,  2.4965808e-01, -5.3465581e-01,\n",
              "        -2.4879069e+00,  4.9729544e-01, -8.3483122e-02,  3.0979329e-01,\n",
              "        -3.3576939e-01, -2.5759473e+00,  2.5242641e+00,  1.0094154e+00,\n",
              "         1.4422474e+00,  5.6828737e-01,  2.2172843e-01, -7.9668438e-01,\n",
              "         2.4492645e+00,  1.0453061e+00, -2.8042576e-01, -6.8236667e-01,\n",
              "         2.5922201e+00,  4.0013933e-01, -1.2254131e+00, -2.5385544e+00,\n",
              "        -1.0123615e+00,  1.8598791e+00, -8.4776813e-01, -1.1420577e+00,\n",
              "         2.0459146e+00,  9.7067428e-01,  6.9629288e-01,  4.3457919e-01,\n",
              "        -6.8494684e-01,  5.4293513e-01,  2.2923563e+00,  2.2614143e+00,\n",
              "         7.4237138e-01, -1.1760573e+00,  4.0702698e-01,  1.2101278e+00,\n",
              "        -7.9954535e-01, -2.1768270e+00, -9.0805280e-01, -8.4756941e-01,\n",
              "         1.7367606e+00,  6.8823200e-01, -2.0301197e+00, -1.7621045e+00,\n",
              "         2.4726961e+00, -5.2640319e-01, -9.4068569e-01, -2.1045547e+00,\n",
              "        -8.9656824e-01, -3.4183495e-02, -1.4730991e+00,  1.0283246e+00,\n",
              "        -1.3487246e+00, -1.1544007e+00,  9.5004007e-02,  2.3589232e+00,\n",
              "        -1.5361891e+00,  4.5974728e-01,  1.2813803e+00,  1.0342982e-01,\n",
              "         1.6984311e+00,  1.2213993e+00,  1.7110291e+00,  2.1505740e-01,\n",
              "        -6.1515218e-01,  3.2825857e-01,  2.9787910e-01,  5.0092044e+00,\n",
              "         9.6710849e-01, -3.9598918e-01, -1.2158792e+00,  1.3692920e+00,\n",
              "        -2.0095730e+00, -6.6034484e-01,  8.9052446e-02, -3.4132299e-01,\n",
              "        -5.6150514e-01, -3.0218873e+00,  7.8545421e-01,  1.3454852e+00,\n",
              "        -1.7954779e+00, -1.6767426e+00,  2.5417237e+00,  1.2100520e+00,\n",
              "         4.0316913e-01,  6.6277641e-01,  1.8101628e+00, -1.3002498e+00,\n",
              "         3.8765597e-01, -1.2949204e+00,  2.2196393e-01,  1.5565475e+00,\n",
              "        -1.9161757e-02,  3.7006326e-03, -1.3899397e+00, -2.5991604e+00,\n",
              "        -2.7963169e+00, -1.4737542e+00,  7.9316579e-02,  6.7743391e-01,\n",
              "         1.9877255e-01, -1.0489180e+00, -1.6884552e+00, -1.8230181e+00,\n",
              "         1.2037451e+00, -9.5857906e-01, -3.5764846e-01,  1.6420587e+00,\n",
              "         1.7869949e+00,  6.4147168e-01,  1.4551530e+00, -8.1425041e-01,\n",
              "         2.7435308e+00, -8.5281736e-01, -1.8034829e-01, -1.4899150e+00,\n",
              "        -6.1907434e-01, -2.6208135e-01, -1.0731891e+00,  1.2553416e+00,\n",
              "        -1.6456071e+00, -2.2840820e-01,  1.6552538e+00,  8.3361693e-02,\n",
              "         7.6765132e-01, -8.1362456e-01,  3.9014778e-01, -3.5425015e-02,\n",
              "        -1.9847304e+00,  8.4407330e-02,  2.4212515e+00, -3.3103970e-01,\n",
              "        -7.1006185e-01, -7.6623267e-01,  1.3539312e+00,  2.1616707e+00,\n",
              "         1.2152598e+00, -5.9197631e-02,  6.1725333e-02,  8.7468100e-01,\n",
              "        -1.2749450e+00,  1.4766722e+00, -1.5311984e+00,  6.1503899e-01,\n",
              "         3.9155920e+00, -2.5485528e-01,  1.3046090e-01,  8.0325991e-01,\n",
              "         3.9156041e-01,  7.4172688e-01, -1.2116114e+00,  9.2697001e-01,\n",
              "         3.2762208e+00, -2.4660747e+00,  1.4912854e+00,  1.7522366e+00,\n",
              "        -2.4101233e+00,  4.6906519e-01, -1.0858868e+00, -1.2026860e-01,\n",
              "        -6.5528303e-02, -1.7644485e+00, -3.9050806e-01,  1.8013493e+00,\n",
              "        -4.9627697e-01, -3.9779592e-01,  3.4796885e-01, -1.4418654e+00,\n",
              "        -1.0382144e+00, -9.3899727e-01,  4.4799858e-01, -3.8223952e-01,\n",
              "        -1.8872203e-02, -2.1269693e+00,  3.1448846e+00,  1.0561411e+00,\n",
              "         7.9952401e-01,  1.3820653e-01,  2.7996743e-01,  1.2170786e+00,\n",
              "        -3.8580021e-01,  2.0093806e+00, -8.2637352e-01, -2.0810096e+00,\n",
              "        -2.0369220e-01,  7.2051775e-01, -8.1090063e-01,  1.6177036e+00,\n",
              "         1.5436158e-01,  1.1288413e+00,  5.6906704e-02, -4.1432849e-01,\n",
              "         6.6128284e-01, -1.3883802e+00,  9.7325796e-01, -3.2988001e-02,\n",
              "        -7.3860902e-01, -1.8079407e+00,  3.1406137e-01,  7.8554994e-01,\n",
              "        -1.0687915e+00, -1.5142910e+00, -7.7921063e-01, -9.2017865e-01,\n",
              "        -7.8585476e-01,  1.4481764e+00,  4.5343304e-01,  1.0947548e+00,\n",
              "         3.2933956e-01,  7.5205791e-01,  1.3525188e+00, -2.8789750e-01,\n",
              "         1.5819511e+00, -1.4043339e+00, -9.7452305e-02,  2.8635561e+00,\n",
              "         7.8390378e-01, -6.9931692e-01, -2.3511660e+00, -1.9731847e+00,\n",
              "         5.3777146e-01, -7.3742658e-02,  1.2472426e+00, -4.4829673e-01,\n",
              "        -9.6125776e-01,  1.0594934e+00, -1.3064139e+00,  9.1108197e-01,\n",
              "         3.5681498e-01, -1.1462750e+00, -1.9079469e-01, -3.9626876e-01,\n",
              "         9.2775446e-01,  1.9476575e+00,  1.1359655e+00,  1.4374861e-01,\n",
              "        -1.7280343e+00, -3.8273638e-01,  3.2712710e+00, -3.7330654e-01,\n",
              "         1.4576255e+00, -2.5367961e+00,  2.3184981e+00, -1.4706769e+00,\n",
              "         8.8797939e-01,  3.3705392e-01,  5.3830612e-01,  5.2915245e-01,\n",
              "         7.6854777e-01, -4.8641574e-02,  1.7537088e+00, -5.5572921e-01,\n",
              "         1.6841111e+00, -4.2517197e-01,  1.6213303e+00,  1.1246681e-02,\n",
              "         8.8481379e-01, -1.8611722e+00, -1.1798260e-01, -6.8724167e-01,\n",
              "         2.1330845e+00, -5.5511028e-01, -7.5830966e-02,  2.7642544e-02,\n",
              "        -6.9294453e-01, -4.4608429e-01, -1.5569838e+00,  2.7451305e+00,\n",
              "        -6.2930271e-02, -9.7822475e-01,  5.4441237e-01, -1.3673265e+00,\n",
              "        -1.6669615e-01, -3.9455301e-01,  3.4811035e-01,  9.6443963e-01,\n",
              "         1.9434863e+00, -8.4131229e-01, -5.7781470e-01,  1.4543179e+00,\n",
              "        -1.9161937e-01, -4.4850865e-01, -2.9529345e+00,  1.5325577e+00,\n",
              "         8.9556158e-01, -1.3515147e+00,  1.7353480e+00,  1.7867049e+00,\n",
              "         9.3780577e-01,  1.5940936e-02, -8.6366892e-01,  7.6500052e-01,\n",
              "        -1.7397067e-02, -1.0191960e+00, -2.4997551e+00, -4.9853409e-03,\n",
              "         5.5674493e-01,  6.6474855e-01, -8.2093358e-01, -2.5221190e+00,\n",
              "         1.9300137e+00, -3.0813438e-01, -6.8271801e-02,  3.3728331e-01,\n",
              "         1.1903242e-03,  1.0587392e-01, -1.4568919e+00, -4.2464688e-01,\n",
              "        -1.7375586e+00,  1.7675298e+00,  5.6626230e-01,  1.0148863e+00,\n",
              "        -1.0912937e-02, -7.5399250e-01, -8.0644205e-02, -9.2097169e-01,\n",
              "        -4.9419054e-01,  7.8844196e-01,  1.0275714e+00, -7.3406368e-02,\n",
              "         1.2255174e-01, -8.9958054e-01,  1.2928201e+00,  7.7641755e-01,\n",
              "         7.1983010e-01,  1.3512951e+00,  1.0484518e+00,  1.7593837e-01,\n",
              "         6.1267465e-01, -1.9738579e+00, -9.8434341e-01, -1.1344410e-02,\n",
              "         1.5806590e+00,  1.4364487e-01,  2.2826020e-01,  1.7069548e+00,\n",
              "         7.1687147e-02,  4.1481942e-01,  8.7161809e-01,  3.3058700e-01,\n",
              "        -8.7687254e-01,  4.4069472e-01,  8.5937738e-01, -4.5035672e-01,\n",
              "         1.6367745e-01, -2.4686794e-01, -2.7725890e-01, -5.7630962e-01,\n",
              "         1.0652597e+00, -6.9467276e-01,  1.2784055e+00,  2.5052460e-02,\n",
              "         1.6021193e+00,  3.3899701e+00,  4.4642630e-01,  4.0825251e-01],\n",
              "       dtype=float32)"
            ]
          },
          "metadata": {},
          "execution_count": 57
        }
      ]
    },
    {
      "cell_type": "markdown",
      "source": [
        "### Entrenamiento de nuestro propio embedding"
      ],
      "metadata": {
        "id": "H6GvKoGbmZmg"
      }
    },
    {
      "cell_type": "markdown",
      "source": [
        "Los embeddings generalistas son populares para trabajar con cualquier tipo de datos. Sin embargo, es posible que en aplicaciones específicas no funcionen de forma óptima. \n",
        "\n",
        "Hoy en día se pueden construir embeddings contextuales que tienen un mejor funcionamiento, pero requieren una mayor capacidad de cómputo y recursos. \n",
        "\n",
        "En este subapartado vamos a ver como entrenar un embedding con un conjunto de datos público y vamos a comprobar su funcionamiento. "
      ],
      "metadata": {
        "id": "Nbap1cuourZg"
      }
    },
    {
      "cell_type": "markdown",
      "source": [
        "En primer lugar descargamos y descomprimimos el conjunto de datos de entrenamiento de la [Tarea MESINESP (MEdical Semantic Indexing in Spanish)](https://temu.bsc.es/mesinesp2/). Este conjunto de datos está compuesto por un conjunto de abstracts de artículos científicos extraidos de repositorios en español. "
      ],
      "metadata": {
        "id": "q8nf7CqPbHFe"
      }
    },
    {
      "cell_type": "code",
      "source": [
        "import nltk\n",
        "from nltk.corpus import stopwords\n",
        "from gensim.models import Word2Vec,KeyedVectors\n",
        "from gensim.test.utils import datapath\n",
        "import re\n",
        "import unicodedata\n",
        "from tqdm import tqdm\n",
        "import gensim\n",
        "import multiprocessing\n",
        "import random\n",
        "from gensim.models.phrases import Phrases, Phraser\n",
        "\n",
        "nltk.download('stopwords')\n",
        "\n",
        "!wget https://zenodo.org/record/5602914/files/Subtrack1-Scientific_Literature.zip?download=1\n",
        "!unzip /content/Subtrack1-Scientific_Literature.zip?download=1"
      ],
      "metadata": {
        "colab": {
          "base_uri": "https://localhost:8080/"
        },
        "id": "W87q8yuph6RQ",
        "outputId": "121f444d-7502-49f6-b38c-d620eef18a4b"
      },
      "execution_count": 58,
      "outputs": [
        {
          "output_type": "stream",
          "name": "stderr",
          "text": [
            "[nltk_data] Downloading package stopwords to /root/nltk_data...\n",
            "[nltk_data]   Unzipping corpora/stopwords.zip.\n"
          ]
        },
        {
          "output_type": "stream",
          "name": "stdout",
          "text": [
            "--2022-07-15 12:11:00--  https://zenodo.org/record/5602914/files/Subtrack1-Scientific_Literature.zip?download=1\n",
            "Resolving zenodo.org (zenodo.org)... 137.138.76.77\n",
            "Connecting to zenodo.org (zenodo.org)|137.138.76.77|:443... connected.\n",
            "HTTP request sent, awaiting response... 200 OK\n",
            "Length: 222445275 (212M) [application/octet-stream]\n",
            "Saving to: ‘Subtrack1-Scientific_Literature.zip?download=1’\n",
            "\n",
            "Subtrack1-Scientifi 100%[===================>] 212.14M  23.1MB/s    in 13s     \n",
            "\n",
            "2022-07-15 12:11:14 (16.6 MB/s) - ‘Subtrack1-Scientific_Literature.zip?download=1’ saved [222445275/222445275]\n",
            "\n",
            "Archive:  /content/Subtrack1-Scientific_Literature.zip?download=1\n",
            "   creating: Subtrack1-Scientific_Literature/\n",
            "   creating: Subtrack1-Scientific_Literature/Development/\n",
            "  inflating: Subtrack1-Scientific_Literature/Development/development_set_subtrack1.json  \n",
            "   creating: Subtrack1-Scientific_Literature/Test/\n",
            "  inflating: Subtrack1-Scientific_Literature/Test/test_set_subtrack1.json  \n",
            "   creating: Subtrack1-Scientific_Literature/Train/\n",
            "  inflating: Subtrack1-Scientific_Literature/Train/training_set_subtrack1_all.json  \n",
            "  inflating: Subtrack1-Scientific_Literature/Train/training_set_subtrack1_only_articles.json  \n"
          ]
        }
      ]
    },
    {
      "cell_type": "markdown",
      "source": [
        "Después cargamos el archivo _*.json_ en un diccionario, e iteramos por cada elemento de la lista cogiendo el campo \"abstractText\", que contiene el abstract de cada artículo.\n",
        "\n",
        "Para acelerar el proceso de cálculo, solo trabajaremos con los primeros 2500 artículos (el corpus tiene más de 200000)"
      ],
      "metadata": {
        "id": "BtqTMMHNcUZK"
      }
    },
    {
      "cell_type": "code",
      "source": [
        "import json\n",
        "with open(\"/content/Subtrack1-Scientific_Literature/Train/training_set_subtrack1_only_articles.json\", 'r') as f:\n",
        "  biomed_dict = json.load(f)\n",
        "\n",
        "documentos = [doc[\"abstractText\"] for doc in biomed_dict[\"articles\"]][:2500]\n"
      ],
      "metadata": {
        "id": "lkmMzIgph6aN"
      },
      "execution_count": 59,
      "outputs": []
    },
    {
      "cell_type": "markdown",
      "source": [
        "Creamos la función ``clean_data`` que realizará un preprocesado a un documento de entrada: pasará a minúsculas, sustituirá dígitos por espacios, tokenizará, eliminará stopwords y quitará tokens menores o iguales de 2 caracteres."
      ],
      "metadata": {
        "id": "GR0qFNY1cyMJ"
      }
    },
    {
      "cell_type": "code",
      "source": [
        "stopwords_list=stopwords.words('spanish')\n",
        "def clean_data(w):\n",
        "    w = w.lower()\n",
        "    w=re.sub(r'[^\\w\\s]','',w)\n",
        "    w=re.sub(r\"([0-9])\", r\" \",w)\n",
        "    words = w.split() \n",
        "    clean_words = [word for word in words if (word not in stopwords_list) and len(word) > 2]\n",
        "    return \" \".join(clean_words)"
      ],
      "metadata": {
        "id": "H3zo1cdlkWrW"
      },
      "execution_count": 60,
      "outputs": []
    },
    {
      "cell_type": "markdown",
      "source": [
        "Creamos una función generator para trabajar más eficientemente en memoria"
      ],
      "metadata": {
        "id": "IoqWDMCZdBWa"
      }
    },
    {
      "cell_type": "code",
      "source": [
        "def get_inp(documentos):\n",
        "    sent=list(map(clean_data,documentos))\n",
        "    for lines in tqdm(sent):\n",
        "        yield lines.split()\n"
      ],
      "metadata": {
        "id": "XMgr90kxkfyb"
      },
      "execution_count": 61,
      "outputs": []
    },
    {
      "cell_type": "markdown",
      "source": [
        "Aplicamos función sobre documentos:"
      ],
      "metadata": {
        "id": "ZldJgTOJdna3"
      }
    },
    {
      "cell_type": "code",
      "source": [
        "sent = [row for row in get_inp(documentos)]"
      ],
      "metadata": {
        "colab": {
          "base_uri": "https://localhost:8080/"
        },
        "id": "-sI8WZ3YdWLH",
        "outputId": "f3b16311-3394-4052-f00d-a1ddeccb640e"
      },
      "execution_count": 62,
      "outputs": [
        {
          "output_type": "stream",
          "name": "stderr",
          "text": [
            "100%|██████████| 2500/2500 [00:00<00:00, 55617.64it/s]\n"
          ]
        }
      ]
    },
    {
      "cell_type": "markdown",
      "source": [
        "Entrenamos el modelo [Phrases](https://radimrehurek.com/gensim/models/phrases.html#gensim.models.phrases.FrozenPhrases) de gensim para detectar bigramas presentes en nuestros datos. En este caso se considerarán conjutos de tokens que al menos aparezcan 20 veces en nuestro corpus. \n",
        "\n",
        "Además, utilizamos el método Phraser para mejorar el rendimiento de Gensim en pasos posteriores. "
      ],
      "metadata": {
        "id": "X0VyP-iQdvHw"
      }
    },
    {
      "cell_type": "code",
      "source": [
        "phrases = Phraser(Phrases(sent, min_count=20, progress_per=10000))\n"
      ],
      "metadata": {
        "id": "770MFAIaUv7V"
      },
      "execution_count": 63,
      "outputs": []
    },
    {
      "cell_type": "markdown",
      "source": [
        "Aplicamos el modelo a nuestro conjunto de datos:"
      ],
      "metadata": {
        "id": "YS_QCKJfelIw"
      }
    },
    {
      "cell_type": "code",
      "source": [
        "sentences = phrases[sent]"
      ],
      "metadata": {
        "id": "wf3HqoQ-edLV"
      },
      "execution_count": 64,
      "outputs": []
    },
    {
      "cell_type": "markdown",
      "source": [
        "En el documento del índice 3, se puede observar que se ha aplicado con éxito. El término \"atención_primaria\" es la unión de los tokens \"atención\" y \"primaria\" que aparecía de forma continua en al menos 20 ocasiones dentro del corpus"
      ],
      "metadata": {
        "id": "7MEuAeHzev6C"
      }
    },
    {
      "cell_type": "code",
      "source": [
        "sentences[3]"
      ],
      "metadata": {
        "id": "-Mmoa0EQVB1H",
        "outputId": "9b432a0a-bc2f-4e63-9d3b-3e4d9c46f042",
        "colab": {
          "base_uri": "https://localhost:8080/"
        }
      },
      "execution_count": 65,
      "outputs": [
        {
          "output_type": "execute_result",
          "data": {
            "text/plain": [
              "['introducción',\n",
              " 'pandemia',\n",
              " 'ocasionada',\n",
              " 'sarscov',\n",
              " 'supuesto',\n",
              " 'reestructuración',\n",
              " 'precedentes',\n",
              " 'asistencia',\n",
              " 'sanitaria',\n",
              " 'centros',\n",
              " 'salud',\n",
              " 'objetivo_conocer',\n",
              " 'percepciones',\n",
              " 'personal',\n",
              " 'médico',\n",
              " 'centro',\n",
              " 'salud',\n",
              " 'albaycín',\n",
              " 'respuesta',\n",
              " 'equipo',\n",
              " 'atención_primaria',\n",
              " 'pandemia',\n",
              " 'covid',\n",
              " 'meses',\n",
              " 'marzo',\n",
              " 'abril',\n",
              " 'métodos_estudio',\n",
              " 'cualitativo',\n",
              " 'observacional',\n",
              " 'orientación',\n",
              " 'fenomenológica',\n",
              " 'mediante',\n",
              " 'entrevistas',\n",
              " 'individuales',\n",
              " 'ámbito',\n",
              " 'estudio',\n",
              " 'centro',\n",
              " 'salud',\n",
              " 'albaycín',\n",
              " 'saturación',\n",
              " 'teórica',\n",
              " 'determinó',\n",
              " 'tamaño',\n",
              " 'muestra',\n",
              " 'totalidad',\n",
              " 'plantilla',\n",
              " 'médica',\n",
              " 'llevó_cabo',\n",
              " 'análisis',\n",
              " 'narrativo',\n",
              " 'contenido',\n",
              " 'resultados',\n",
              " 'discursos',\n",
              " 'muestran',\n",
              " 'seis',\n",
              " 'categorías',\n",
              " 'análisis',\n",
              " 'organización',\n",
              " 'toma',\n",
              " 'decisiones',\n",
              " 'características',\n",
              " 'respuesta',\n",
              " 'dada',\n",
              " 'mantenimiento',\n",
              " 'pilares',\n",
              " 'atención_primaria',\n",
              " 'cualidades',\n",
              " 'equipo',\n",
              " 'potenciadas',\n",
              " 'rol',\n",
              " 'docencia',\n",
              " 'nuevas',\n",
              " 'dinámicas',\n",
              " 'generadas',\n",
              " 'resultados',\n",
              " 'describen',\n",
              " 'respuesta',\n",
              " 'adecuada',\n",
              " 'coordinada',\n",
              " 'comunidad',\n",
              " 'anticipada',\n",
              " 'directrices',\n",
              " 'institucionales',\n",
              " 'toma',\n",
              " 'decisiones',\n",
              " 'sido',\n",
              " 'consensuada',\n",
              " 'horizontal',\n",
              " 'potenciándose',\n",
              " 'cualidades',\n",
              " 'equipo',\n",
              " 'pesar',\n",
              " 'limitaciones',\n",
              " 'mantenido',\n",
              " 'accesibilidad',\n",
              " 'longitudinalidad',\n",
              " 'pandemia',\n",
              " 'visto',\n",
              " 'afectada',\n",
              " 'calidad',\n",
              " 'asistencial',\n",
              " 'actividad',\n",
              " 'docente',\n",
              " 'discusión',\n",
              " 'liderazgo',\n",
              " 'transformacional',\n",
              " 'refuerza',\n",
              " 'vínculo',\n",
              " 'profesionales',\n",
              " 'fomenta',\n",
              " 'participación',\n",
              " 'activa',\n",
              " 'residentes',\n",
              " 'permite',\n",
              " 'respuesta',\n",
              " 'satisfactoria',\n",
              " 'situación',\n",
              " 'emergente',\n",
              " 'contar',\n",
              " 'participación',\n",
              " 'comunidad',\n",
              " 'puede',\n",
              " 'generar',\n",
              " 'confianza',\n",
              " 'organización',\n",
              " 'mejorar',\n",
              " 'resultados',\n",
              " 'salud']"
            ]
          },
          "metadata": {},
          "execution_count": 65
        }
      ]
    },
    {
      "cell_type": "markdown",
      "source": [
        "Una vez preparado el corpus, vamos a proceder con el entrenamiento del modelo [Word2Vec](https://radimrehurek.com/gensim/models/word2vec.html#gensim.models.word2vec.Word2Vec). Para ello utilizaremos las capacidades multiprocesador de Gensim y utilizaremos unos parámetros típicos en este tipo de modelo.\n",
        "\n",
        "En la estrategia de entrenamiento CBOW especificada en el paper de Word2Vec, se toman ventanas de tamaño N de cada documento. Entonces, se extrae la palabra central del enventanado y se entrena un modelo capaz de predecir esa palabra central a partir del resto (el contexto).\n",
        "\n",
        "El término \"window\" indica el tamaño de la ventana elegido para subdividir cada uno de nuestros documentos. La función se encarga de transformar todo el corpus (train/test, transformación de las palabras en vectores, backprogataion...), pero al final internamente se tendrá el siguiente formato de dato:\n",
        "\n",
        "\n",
        "Palabras de contexto | Word vector dle contexto | Palabra central | vector de la palabra central|\n",
        "-----|----------|----------|----------------------|\n",
        "yo quiero y un agua | media de los one-hot vectors |agua |[ 0 0 0 .... 1.... 0 |"
      ],
      "metadata": {
        "id": "ZOflx1G3gjax"
      }
    },
    {
      "cell_type": "code",
      "source": [
        "import multiprocessing\n",
        "from gensim.models import Word2Vec\n",
        "cores = multiprocessing.cpu_count() # Count the number of cores in a computer\n",
        "w2v_model = Word2Vec(min_count=20,\n",
        "                     window=5,\n",
        "                     size=300,\n",
        "                     sample=6e-5, \n",
        "                     alpha=0.03, \n",
        "                     min_alpha=0.0007, \n",
        "                     negative=20, \n",
        "                     workers=cores-1)"
      ],
      "metadata": {
        "id": "muoHAtGBVgfs"
      },
      "execution_count": 66,
      "outputs": []
    },
    {
      "cell_type": "markdown",
      "source": [
        "Una vez creado el objeto Word2Vec, procedemos a generar un vocabulario para el embedding, que será extraido a partir de nuestro corpus."
      ],
      "metadata": {
        "id": "J6av18Oth___"
      }
    },
    {
      "cell_type": "code",
      "source": [
        "w2v_model.build_vocab(sentences, progress_per=10000)"
      ],
      "metadata": {
        "id": "al2bclCviAOY"
      },
      "execution_count": 67,
      "outputs": []
    },
    {
      "cell_type": "markdown",
      "source": [
        "Por último se procede a entrenar el embedding, para posteriormente guardarlo (y cargarlo para verificar que se ha aplicado correctamete)"
      ],
      "metadata": {
        "id": "l5AgVSubiKIf"
      }
    },
    {
      "cell_type": "code",
      "source": [
        "w2v_model.train(sentences, total_examples=w2v_model.corpus_count, epochs=30, report_delay=1)"
      ],
      "metadata": {
        "colab": {
          "base_uri": "https://localhost:8080/"
        },
        "id": "ZbIsBtsuiKcA",
        "outputId": "684ceaf8-c99b-4b23-c288-6936a6f06aa2"
      },
      "execution_count": 68,
      "outputs": [
        {
          "output_type": "execute_result",
          "data": {
            "text/plain": [
              "(2111923, 7027980)"
            ]
          },
          "metadata": {},
          "execution_count": 68
        }
      ]
    },
    {
      "cell_type": "code",
      "source": [
        "w2v_model.wv.save_word2vec_format(\"guardar.bin\",binary=True)\n",
        "saved_model_path='/content/guardar.bin'\n",
        "trained_model = KeyedVectors.load_word2vec_format(saved_model_path, binary=True)\n"
      ],
      "metadata": {
        "id": "heJafBoDapzx"
      },
      "execution_count": 69,
      "outputs": []
    },
    {
      "cell_type": "markdown",
      "source": [
        "Procedemos a ver el funcionamiento del embedding buscando sinónimos a algunas palabras de ejemplo presentes en el corpus."
      ],
      "metadata": {
        "id": "x2_IHs-QiY0U"
      }
    },
    {
      "cell_type": "code",
      "source": [
        "trained_model.wv.most_similar(positive=[\"virus\"], topn=3)"
      ],
      "metadata": {
        "colab": {
          "base_uri": "https://localhost:8080/"
        },
        "id": "tlgKA3JwWJo9",
        "outputId": "6cc88c68-daa2-4f81-e6b2-69c6f50671f2"
      },
      "execution_count": 70,
      "outputs": [
        {
          "output_type": "stream",
          "name": "stderr",
          "text": [
            "/usr/local/lib/python3.7/dist-packages/ipykernel_launcher.py:1: DeprecationWarning: Call to deprecated `wv` (Attribute will be removed in 4.0.0, use self instead).\n",
            "  \"\"\"Entry point for launching an IPython kernel.\n"
          ]
        },
        {
          "output_type": "execute_result",
          "data": {
            "text/plain": [
              "[('inmunodeficiencia', 0.9782686829566956),\n",
              " ('hepatitis', 0.9196502566337585),\n",
              " ('humana', 0.9100706577301025)]"
            ]
          },
          "metadata": {},
          "execution_count": 70
        }
      ]
    },
    {
      "cell_type": "code",
      "source": [
        "trained_model.wv.most_similar(positive=[\"vph\"], topn=10)"
      ],
      "metadata": {
        "colab": {
          "base_uri": "https://localhost:8080/"
        },
        "id": "yPLTRucra81c",
        "outputId": "625ef184-19e4-4da9-c6ba-86e57b85bdad"
      },
      "execution_count": 71,
      "outputs": [
        {
          "output_type": "stream",
          "name": "stderr",
          "text": [
            "/usr/local/lib/python3.7/dist-packages/ipykernel_launcher.py:1: DeprecationWarning: Call to deprecated `wv` (Attribute will be removed in 4.0.0, use self instead).\n",
            "  \"\"\"Entry point for launching an IPython kernel.\n"
          ]
        },
        {
          "output_type": "execute_result",
          "data": {
            "text/plain": [
              "[('hepatitis', 0.8841818571090698),\n",
              " ('adn', 0.8727245926856995),\n",
              " ('infectados', 0.8472581505775452),\n",
              " ('bacterias', 0.8471121788024902),\n",
              " ('agente', 0.8450483083724976),\n",
              " ('virus', 0.8425841331481934),\n",
              " ('infección_vih', 0.8313686847686768),\n",
              " ('negativos', 0.8296773433685303),\n",
              " ('detección', 0.8143043518066406),\n",
              " ('tipos', 0.8106845617294312)]"
            ]
          },
          "metadata": {},
          "execution_count": 71
        }
      ]
    },
    {
      "cell_type": "code",
      "source": [
        "print(trained_model.similarity('virus', 'covid'))"
      ],
      "metadata": {
        "colab": {
          "base_uri": "https://localhost:8080/"
        },
        "id": "mmeRC4Lsj2Et",
        "outputId": "beff8d7e-76d9-42b9-e726-c8d701deede5"
      },
      "execution_count": 72,
      "outputs": [
        {
          "output_type": "stream",
          "name": "stdout",
          "text": [
            "0.6511788\n"
          ]
        }
      ]
    },
    {
      "cell_type": "markdown",
      "source": [
        "Otra opción es visualizar el embedding, para ver si palabras similares están cercanas entre si. Para ello, vamos a extraer el vocabulario del modelo e introducir en una matriz X los vectores de todas las palabras"
      ],
      "metadata": {
        "id": "m39ZDuK7i2Ei"
      }
    },
    {
      "cell_type": "code",
      "source": [
        "vocab = list(trained_model.wv.vocab.keys())\n",
        "X = trained_model.wv[vocab]"
      ],
      "metadata": {
        "colab": {
          "base_uri": "https://localhost:8080/"
        },
        "id": "FvWAJE4mYUaX",
        "outputId": "3f6a67d7-599d-4e5f-b71a-57ae18c91125"
      },
      "execution_count": 73,
      "outputs": [
        {
          "output_type": "stream",
          "name": "stderr",
          "text": [
            "/usr/local/lib/python3.7/dist-packages/ipykernel_launcher.py:1: DeprecationWarning: Call to deprecated `wv` (Attribute will be removed in 4.0.0, use self instead).\n",
            "  \"\"\"Entry point for launching an IPython kernel.\n",
            "/usr/local/lib/python3.7/dist-packages/ipykernel_launcher.py:2: DeprecationWarning: Call to deprecated `wv` (Attribute will be removed in 4.0.0, use self instead).\n",
            "  \n"
          ]
        }
      ]
    },
    {
      "cell_type": "markdown",
      "source": [
        "Hacemos una reducciónn de dimensionalidad con t-sne a dos dimensiones, para poder mostrar cada posición en un espacio 2D."
      ],
      "metadata": {
        "id": "1hQkdTJUjXeZ"
      }
    },
    {
      "cell_type": "code",
      "source": [
        "from sklearn.manifold import TSNE\n",
        "import re\n",
        "import matplotlib.pyplot as plt\n",
        "tsne = TSNE(n_components=2)\n",
        "X_tsne = tsne.fit_transform(X)\n",
        "# Transformamos a dataframe para facilitar su plotting\n",
        "import pandas as pd\n",
        "df = pd.DataFrame(X_tsne, index=vocab, columns=['x', 'y'])"
      ],
      "metadata": {
        "colab": {
          "base_uri": "https://localhost:8080/"
        },
        "id": "_Cy5hIwXYUeE",
        "outputId": "a4bde071-39b9-48c7-f470-fdaf595968e1"
      },
      "execution_count": 74,
      "outputs": [
        {
          "output_type": "stream",
          "name": "stderr",
          "text": [
            "/usr/local/lib/python3.7/dist-packages/sklearn/manifold/_t_sne.py:783: FutureWarning: The default initialization in TSNE will change from 'random' to 'pca' in 1.2.\n",
            "  FutureWarning,\n",
            "/usr/local/lib/python3.7/dist-packages/sklearn/manifold/_t_sne.py:793: FutureWarning: The default learning rate in TSNE will change from 200.0 to 'auto' in 1.2.\n",
            "  FutureWarning,\n"
          ]
        }
      ]
    },
    {
      "cell_type": "markdown",
      "source": [
        "Cogemos una muestra, para visualizarlo de forma más clara."
      ],
      "metadata": {
        "id": "MruZ92l7jmx5"
      }
    },
    {
      "cell_type": "code",
      "source": [
        "df_2 = df.sample(200)"
      ],
      "metadata": {
        "id": "qVxWsUV9bac8"
      },
      "execution_count": 75,
      "outputs": []
    },
    {
      "cell_type": "code",
      "source": [
        "fig = plt.figure(figsize=(24,16))\n",
        "\n",
        "ax = fig.add_subplot(1, 1, 1)\n",
        "\n",
        "ax.scatter(df_2['x'], df_2['y'])\n",
        "\n",
        "for word, pos in df_2.iterrows():\n",
        "    ax.annotate(word, pos)\n"
      ],
      "metadata": {
        "colab": {
          "base_uri": "https://localhost:8080/",
          "height": 918
        },
        "id": "MAUKuAs8Ye8H",
        "outputId": "c2da30cc-985a-4356-db88-ebc8fe306f2e"
      },
      "execution_count": 76,
      "outputs": [
        {
          "output_type": "display_data",
          "data": {
            "text/plain": [
              "<Figure size 1728x1152 with 1 Axes>"
            ],
            "image/png": "[encoded data removed]"
          },
          "metadata": {
            "needs_background": "light"
          }
        }
      ]
    }
  ]
}