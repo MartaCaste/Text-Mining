{
  "nbformat": 4,
  "nbformat_minor": 0,
  "metadata": {
    "colab": {
      "name": "Preparacion_datos_lexicon_sentimiento_castellano.ipynb",
      "provenance": [],
      "collapsed_sections": [],
      "include_colab_link": true
    },
    "kernelspec": {
      "name": "python3",
      "display_name": "Python 3"
    },
    "language_info": {
      "name": "python"
    }
  },
  "cells": [
    {
      "cell_type": "markdown",
      "metadata": {
        "id": "view-in-github",
        "colab_type": "text"
      },
      "source": [
        "<a href=\"https://colab.research.google.com/github/MartaCaste/Text-Mining/blob/main/Preparacion_datos_lexicon_sentimiento_castellano.ipynb\" target=\"_parent\"><img src=\"https://colab.research.google.com/assets/colab-badge.svg\" alt=\"Open In Colab\"/></a>"
      ]
    },
    {
      "cell_type": "markdown",
      "source": [
        "\n",
        "Para el ejercicio propuesto es probable que querais incorporar características de sentimiento a los modelos de clasificación. Como hemos visto en clase, la mayoría de los recursos del lenguaje de análisis de sentimiento (Sentiment Lexicons) se encuentran en inglés. \n",
        "\n",
        "De cara a facilitar la obtención de recursos en español he preparado es notebook,donde descargo y preparo diferentes recursos para que podais utilizarlos en los ejercicios."
      ],
      "metadata": {
        "id": "ivjBpXnO-qgd"
      }
    },
    {
      "cell_type": "code",
      "source": [
        "import pandas as pd"
      ],
      "metadata": {
        "id": "gLE5u-9dJDTW"
      },
      "execution_count": null,
      "outputs": []
    },
    {
      "cell_type": "markdown",
      "source": [
        "## Spanish Emotion Lexicon (SEL) \n",
        "\n",
        "Este lexicon contiene 2036 palabras clasificadas según su uso en  6 estados de ánimo diferentes emociones (joy, anger, fear, sadness, surprise, and disgust).  Tal y como se hizo el [equipo SINNAI-EMMA en la tarea 1 del workshop TASS 2015](https://gplsi.dlsi.ua.es/sepln15/sites/gplsi.dlsi.ua.es.sepln15/files/attachments/sinai-emma.pdf), vamos a \"binarizar\" cada uno de los términos, según sean términos altamente probables de sentimientos positivos (joy y surprise) y negativos (el resto). Al terminar, cada palabra dispondrá de un score positivo o negativo según su PFA. \n",
        "\n",
        "NOTA: No es el método óptimo para conseguir esta lista de términos, pero puede servirnos. Otra posible opción sería la traducción automática de estos lexicons (o la traducción de los documentos originales a lengua inglesa).\n"
      ],
      "metadata": {
        "id": "sTWqSThVHcvM"
      }
    },
    {
      "cell_type": "markdown",
      "source": [
        "Descargamos los datos de Spanish Emotion Lexicon de la web de [Grigori Sidorov](https://www.cic.ipn.mx/~sidorov/#SEL) "
      ],
      "metadata": {
        "id": "wh3H1LAgI32X"
      }
    },
    {
      "cell_type": "code",
      "source": [
        "url_path = \"https://www.cic.ipn.mx/~sidorov/SEL.txt\"\n",
        "sel_lexicon = pd.read_csv(url_path,sep=\"\\t\", encoding=\"latin-1\")"
      ],
      "metadata": {
        "id": "u00X1XuFHb9u"
      },
      "execution_count": null,
      "outputs": []
    },
    {
      "cell_type": "markdown",
      "source": [
        "La categoría \"Alegría\" y \"Sorpresa\" se mapearán a \"positive\" y el resto a \"negative\":"
      ],
      "metadata": {
        "id": "lDUCeSNkJRBx"
      }
    },
    {
      "cell_type": "code",
      "execution_count": null,
      "metadata": {
        "id": "Fpa0p9lq-mlc"
      },
      "outputs": [],
      "source": [
        "dicc_mapping = {\"Alegría\":\"positive\",\n",
        "                \"Sorpresa\":\"positive\",\n",
        "                \"Tristeza\":\"negative\",\n",
        "                \"Enojo\":\"negative\",\n",
        "                \"Miedo\":\"negative\",\n",
        "                \"Repulsión\":\"negative\"}\n",
        "                \n",
        "sel_lexicon[\"Categoría\"] = sel_lexicon[\"Categoría\"].map(dicc_mapping)"
      ]
    },
    {
      "cell_type": "code",
      "source": [
        "positive_words = dict(zip(sel_lexicon[sel_lexicon[\"Categoría\"]==\"positive\"].Palabra, sel_lexicon[sel_lexicon[\"Categoría\"]==\"positive\"][' PFA']))\n",
        "negative_words = dict(zip(sel_lexicon[sel_lexicon[\"Categoría\"]==\"negative\"].Palabra, sel_lexicon[sel_lexicon[\"Categoría\"]==\"negative\"][' PFA']))"
      ],
      "metadata": {
        "id": "deeaSQc9Kafr"
      },
      "execution_count": null,
      "outputs": []
    },
    {
      "cell_type": "code",
      "source": [
        "def calculate_sentiment(frase, positive_words, negative_words):\n",
        "  \"\"\"\n",
        "  Función para calcular el score de sentimiento de una frase\n",
        "\n",
        "  Args:\n",
        "    frase [str]: Frase pre-preprocesada en español. Debe venir lematizada.\n",
        "    positive_words [dict]: Diccionario de palabras positivas extraidas de SEL\n",
        "    negative_words [dict]: Diccionario de palabras negativas extraídas de SEL\n",
        "\n",
        "  Out:\n",
        "    Sentiment score  \n",
        "  \"\"\"\n",
        "  score = 0\n",
        "  for i in frase.split():\n",
        "    if i in positive_words:\n",
        "      score = score + float(positive_words[i])\n",
        "    elif i in negative_words:\n",
        "      score = score - float(negative_words[i])\n",
        "    else:\n",
        "      score = score + 0\n",
        "  \n",
        "  return score\n"
      ],
      "metadata": {
        "id": "oh4Zt52-JOn0"
      },
      "execution_count": null,
      "outputs": []
    },
    {
      "cell_type": "code",
      "source": [
        "frase_prueba1 = \"La vida sin deporte es un martirio\"\n",
        "frase_prueba2 = \"Que gusto cuando voy al cine a disfrutar una película\""
      ],
      "metadata": {
        "id": "ZkFcRXCzLt7m"
      },
      "execution_count": null,
      "outputs": []
    },
    {
      "cell_type": "code",
      "source": [
        "calculate_sentiment(frase_prueba1, positive_words, negative_words)"
      ],
      "metadata": {
        "colab": {
          "base_uri": "https://localhost:8080/"
        },
        "id": "ngdeC-TXLwtI",
        "outputId": "d962556b-647d-455c-d4f7-12329355d258"
      },
      "execution_count": null,
      "outputs": [
        {
          "output_type": "execute_result",
          "data": {
            "text/plain": [
              "-0.298"
            ]
          },
          "metadata": {},
          "execution_count": 46
        }
      ]
    },
    {
      "cell_type": "code",
      "source": [
        "calculate_sentiment(frase_prueba2, positive_words, negative_words)"
      ],
      "metadata": {
        "colab": {
          "base_uri": "https://localhost:8080/"
        },
        "id": "Icr8bNUYMD6M",
        "outputId": "3e8d8241-9de1-4e8a-e91c-51c104127710"
      },
      "execution_count": null,
      "outputs": [
        {
          "output_type": "execute_result",
          "data": {
            "text/plain": [
              "1.459"
            ]
          },
          "metadata": {},
          "execution_count": 45
        }
      ]
    }
  ]
}